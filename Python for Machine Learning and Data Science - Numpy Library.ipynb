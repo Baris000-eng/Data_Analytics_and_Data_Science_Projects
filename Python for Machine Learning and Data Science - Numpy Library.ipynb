{
 "cells": [
  {
   "cell_type": "code",
   "execution_count": 4,
   "id": "8f517130",
   "metadata": {},
   "outputs": [
    {
     "name": "stdout",
     "output_type": "stream",
     "text": [
      "[1, 2, 3, 4, 5, 6, 7, 8, 9, 10]\n"
     ]
    }
   ],
   "source": [
    "my_list = [1,2,3,4,5,6,7,8,9,10]\n",
    "print(my_list)"
   ]
  },
  {
   "cell_type": "code",
   "execution_count": 5,
   "id": "188eab99",
   "metadata": {},
   "outputs": [
    {
     "name": "stdout",
     "output_type": "stream",
     "text": [
      "[ 1  2  3  4  5  6  7  8  9 10]\n",
      "[ 1  2  3  4  5  6  7  8  9 10]\n"
     ]
    }
   ],
   "source": [
    "import numpy as np\n",
    "print(np.array(my_list))\n",
    "\n",
    "my_arr = np.array(my_list)\n",
    "print(my_arr)"
   ]
  },
  {
   "cell_type": "code",
   "execution_count": 6,
   "id": "7651ed81",
   "metadata": {},
   "outputs": [
    {
     "data": {
      "text/plain": [
       "array([ 1,  2,  3,  4,  5,  6,  7,  8,  9, 10])"
      ]
     },
     "execution_count": 6,
     "metadata": {},
     "output_type": "execute_result"
    }
   ],
   "source": [
    "my_arr"
   ]
  },
  {
   "cell_type": "code",
   "execution_count": 7,
   "id": "2b70dd36",
   "metadata": {},
   "outputs": [
    {
     "name": "stdout",
     "output_type": "stream",
     "text": [
      "[[1, 2, 3], [4, 5, 6], [7, 8, 9]]\n",
      "[1, 2, 3] [4, 5, 6] [7, 8, 9]\n",
      "[[1 2 3]\n",
      " [4 5 6]\n",
      " [7 8 9]]\n"
     ]
    }
   ],
   "source": [
    "my_matrix = [[1,2,3],[4,5,6],[7,8,9]]\n",
    "print(my_matrix)\n",
    "print(my_matrix[0],my_matrix[1],my_matrix[2])\n",
    "print(np.array(my_matrix))"
   ]
  },
  {
   "cell_type": "code",
   "execution_count": 8,
   "id": "97b3399f",
   "metadata": {},
   "outputs": [
    {
     "data": {
      "text/plain": [
       "array([[1, 2, 3],\n",
       "       [4, 5, 6],\n",
       "       [7, 8, 9]])"
      ]
     },
     "execution_count": 8,
     "metadata": {},
     "output_type": "execute_result"
    }
   ],
   "source": [
    "np.array(my_matrix)"
   ]
  },
  {
   "cell_type": "code",
   "execution_count": 9,
   "id": "5c7a28b9",
   "metadata": {},
   "outputs": [
    {
     "data": {
      "text/plain": [
       "array([0, 1, 2, 3, 4, 5, 6, 7, 8, 9])"
      ]
     },
     "execution_count": 9,
     "metadata": {},
     "output_type": "execute_result"
    }
   ],
   "source": [
    "########usage of np.arange() function\n",
    "np.arange(0,10)"
   ]
  },
  {
   "cell_type": "code",
   "execution_count": 10,
   "id": "bcf76745",
   "metadata": {},
   "outputs": [
    {
     "data": {
      "text/plain": [
       "array([ 0,  1,  2,  3,  4,  5,  6,  7,  8,  9, 10])"
      ]
     },
     "execution_count": 10,
     "metadata": {},
     "output_type": "execute_result"
    }
   ],
   "source": [
    "np.arange(0, 11)"
   ]
  },
  {
   "cell_type": "code",
   "execution_count": 11,
   "id": "f1048c65",
   "metadata": {},
   "outputs": [
    {
     "data": {
      "text/plain": [
       "array([ 0,  2,  4,  6,  8, 10])"
      ]
     },
     "execution_count": 11,
     "metadata": {},
     "output_type": "execute_result"
    }
   ],
   "source": [
    "np.arange(0,11,2)"
   ]
  },
  {
   "cell_type": "code",
   "execution_count": 12,
   "id": "e8049f74",
   "metadata": {},
   "outputs": [
    {
     "data": {
      "text/plain": [
       "array([0., 0., 0., 0., 0.])"
      ]
     },
     "execution_count": 12,
     "metadata": {},
     "output_type": "execute_result"
    }
   ],
   "source": [
    "np.zeros(5) ###creating a numpy array of 5 floats all of which are set to 0.0"
   ]
  },
  {
   "cell_type": "code",
   "execution_count": 13,
   "id": "bc87a595",
   "metadata": {},
   "outputs": [
    {
     "name": "stdout",
     "output_type": "stream",
     "text": [
      "[0. 0. 0. 0. 0. 0. 0. 0. 0. 0.]\n"
     ]
    }
   ],
   "source": [
    "print(np.zeros(10)) ###creating a numpy array of 10 floats all of which are set to 0.0, and printing this array"
   ]
  },
  {
   "cell_type": "code",
   "execution_count": 14,
   "id": "42b829bd",
   "metadata": {},
   "outputs": [
    {
     "data": {
      "text/plain": [
       "array([0.70006109, 0.22565199, 0.82281409, 0.80582257, 0.23276423,\n",
       "       0.0411086 , 0.61993594])"
      ]
     },
     "execution_count": 14,
     "metadata": {},
     "output_type": "execute_result"
    }
   ],
   "source": [
    "np.random.rand(7)"
   ]
  },
  {
   "cell_type": "code",
   "execution_count": 15,
   "id": "48d3d46b",
   "metadata": {},
   "outputs": [
    {
     "data": {
      "text/plain": [
       "array([ 1.33612222,  0.39319727,  0.27202893, -0.03735398, -0.308854  ,\n",
       "       -0.1393909 ,  0.34423817,  0.63296085,  0.69958305,  0.64449863])"
      ]
     },
     "execution_count": 15,
     "metadata": {},
     "output_type": "execute_result"
    }
   ],
   "source": [
    "np.random.randn(10)"
   ]
  },
  {
   "cell_type": "code",
   "execution_count": 16,
   "id": "6bd6da48",
   "metadata": {},
   "outputs": [
    {
     "data": {
      "text/plain": [
       "array([[0.37881319, 0.65714715, 0.66569783, 0.24016758, 0.66629356,\n",
       "        0.85759724, 0.19110124],\n",
       "       [0.31453347, 0.54583564, 0.83946188, 0.23364999, 0.98894656,\n",
       "        0.07193728, 0.0199964 ],\n",
       "       [0.36053213, 0.9978004 , 0.39773124, 0.33997314, 0.1397598 ,\n",
       "        0.5344856 , 0.21286556],\n",
       "       [0.65806756, 0.5082521 , 0.30086   , 0.29659035, 0.11812834,\n",
       "        0.12085911, 0.58355236],\n",
       "       [0.86817958, 0.29795581, 0.70557564, 0.35078802, 0.30965996,\n",
       "        0.75854231, 0.34308685],\n",
       "       [0.15139574, 0.14513453, 0.62230136, 0.53111778, 0.86291189,\n",
       "        0.70092068, 0.7764045 ],\n",
       "       [0.08053443, 0.29485972, 0.55535117, 0.58955235, 0.7548479 ,\n",
       "        0.57103867, 0.60512233]])"
      ]
     },
     "execution_count": 16,
     "metadata": {},
     "output_type": "execute_result"
    }
   ],
   "source": [
    "np.random.rand(7,7) ##generates a 7 by 7 matrix where each element is drawn from a uniform distribution over [0,1)."
   ]
  },
  {
   "cell_type": "code",
   "execution_count": 17,
   "id": "6df9e251",
   "metadata": {},
   "outputs": [
    {
     "name": "stdout",
     "output_type": "stream",
     "text": [
      "[[-1.65918387 -1.90501228  0.32661489  0.47216933 -2.11892459 -1.4651663\n",
      "  -1.03399711  0.0347166   0.50419294  1.36051078  0.39948438]\n",
      " [-0.23549583  0.52460858 -0.34689986  0.86311944 -1.94996063 -0.51780786\n",
      "  -0.54141562  1.34548953 -0.12629124  0.46265045 -2.01701126]\n",
      " [ 0.32479176 -0.36773602 -2.27754532  0.36825691 -1.12823102 -1.41721003\n",
      "  -0.04842744 -0.45866876  0.99471887  1.03489605  0.51426405]\n",
      " [-1.21179941 -1.07225227 -2.11254967  0.52762136  0.75175067 -0.65203682\n",
      "  -0.72977538 -0.4681337  -0.78697056  0.65276496 -0.53632842]\n",
      " [-2.05900615  0.54357707 -1.40799563 -1.41348048 -0.72712878 -1.29645695\n",
      "  -0.89519018  0.13660922 -0.23348747  0.17163489  1.55609212]\n",
      " [-1.08351347 -2.58029792  0.06372445  0.93980511 -0.75242972 -0.54041509\n",
      "   1.24284714  1.08514128  0.0535021  -0.26341547  0.42301117]\n",
      " [ 0.49160196  1.08926558  0.52294828  0.55634053 -1.2048919  -0.8354908\n",
      "   0.22267682  0.18871493  1.74959306  0.04145153  0.03643855]\n",
      " [-0.0073976   1.89595432  0.10915329  0.0379027   1.45549685 -1.38976797\n",
      "  -0.83041799  0.07470207 -1.57850533  1.20798131 -0.63212814]\n",
      " [-0.52912821 -1.36584926  0.60757411  1.11979826  2.35913045  0.39274592\n",
      "  -0.60720297  0.50121979  0.95764124  0.48480936 -1.69634337]\n",
      " [-0.53363367  1.05169256 -0.01197756  0.87831218  0.30128848  2.14128957\n",
      "  -0.19587525  0.9644816   0.32865148 -1.09087011  0.2862146 ]\n",
      " [ 1.55081319 -0.44652216 -0.61244069 -0.93849892  0.0278354   2.0830926\n",
      "  -0.77421346  0.73156866 -0.31294811  0.54900089 -3.07512496]]\n"
     ]
    }
   ],
   "source": [
    "print(np.random.randn(11,11)) ##generates a 11 by 11 matrix where each element is drawn from a standard normal distribution."
   ]
  },
  {
   "cell_type": "code",
   "execution_count": 18,
   "id": "88d53f9c",
   "metadata": {},
   "outputs": [
    {
     "name": "stdout",
     "output_type": "stream",
     "text": [
      "[1. 1. 1. 1. 1.]\n"
     ]
    }
   ],
   "source": [
    "print(np.ones(5))"
   ]
  },
  {
   "cell_type": "code",
   "execution_count": 19,
   "id": "233409fe",
   "metadata": {},
   "outputs": [
    {
     "name": "stdout",
     "output_type": "stream",
     "text": [
      "[59 99 46  9 27 14 96 16 73 97]\n"
     ]
    }
   ],
   "source": [
    "print(np.random.randint(1, 100, 10)) ####gets 10 random integers from the range starting at 1 and ending at 99."
   ]
  },
  {
   "cell_type": "code",
   "execution_count": 20,
   "id": "ff2357f1",
   "metadata": {},
   "outputs": [
    {
     "name": "stdout",
     "output_type": "stream",
     "text": [
      "[ 0  1  2  3  4  5  6  7  8  9 10 11 12 13 14 15 16 17 18 19 20 21 22 23\n",
      " 24 25 26 27 28 29 30 31 32 33 34 35 36 37 38 39 40 41 42 43 44 45 46 47\n",
      " 48 49 50 51 52 53 54 55 56 57 58 59 60 61 62 63 64 65 66 67 68 69 70 71\n",
      " 72 73 74 75 76 77 78 79 80 81 82 83 84 85 86 87 88 89 90 91 92 93 94 95\n",
      " 96 97 98 99]\n"
     ]
    }
   ],
   "source": [
    "arr = np.arange(0, 100)\n",
    "print(arr)"
   ]
  },
  {
   "cell_type": "code",
   "execution_count": 21,
   "id": "5abe21b2",
   "metadata": {},
   "outputs": [
    {
     "data": {
      "text/plain": [
       "array([[ 0,  1,  2,  3,  4,  5,  6,  7,  8,  9],\n",
       "       [10, 11, 12, 13, 14, 15, 16, 17, 18, 19],\n",
       "       [20, 21, 22, 23, 24, 25, 26, 27, 28, 29],\n",
       "       [30, 31, 32, 33, 34, 35, 36, 37, 38, 39],\n",
       "       [40, 41, 42, 43, 44, 45, 46, 47, 48, 49],\n",
       "       [50, 51, 52, 53, 54, 55, 56, 57, 58, 59],\n",
       "       [60, 61, 62, 63, 64, 65, 66, 67, 68, 69],\n",
       "       [70, 71, 72, 73, 74, 75, 76, 77, 78, 79],\n",
       "       [80, 81, 82, 83, 84, 85, 86, 87, 88, 89],\n",
       "       [90, 91, 92, 93, 94, 95, 96, 97, 98, 99]])"
      ]
     },
     "execution_count": 21,
     "metadata": {},
     "output_type": "execute_result"
    }
   ],
   "source": [
    "##########Reshape method of Numpy\n",
    "arr.reshape(10,10) #####reshaping the array into 10 by 10 array."
   ]
  },
  {
   "cell_type": "code",
   "execution_count": 22,
   "id": "430f3f9c",
   "metadata": {},
   "outputs": [
    {
     "data": {
      "text/plain": [
       "8"
      ]
     },
     "execution_count": 22,
     "metadata": {},
     "output_type": "execute_result"
    }
   ],
   "source": [
    "rand_arr = np.random.randint(1, 100, 10)\n",
    "rand_arr.min()"
   ]
  },
  {
   "cell_type": "code",
   "execution_count": 23,
   "id": "47c3adb4",
   "metadata": {},
   "outputs": [
    {
     "data": {
      "text/plain": [
       "98"
      ]
     },
     "execution_count": 23,
     "metadata": {},
     "output_type": "execute_result"
    }
   ],
   "source": [
    "rand_arr.max()"
   ]
  },
  {
   "cell_type": "code",
   "execution_count": 24,
   "id": "0ae15756",
   "metadata": {},
   "outputs": [
    {
     "name": "stdout",
     "output_type": "stream",
     "text": [
      "8\n",
      "6\n"
     ]
    }
   ],
   "source": [
    "print(rand_arr.argmax()) ###gets the index of the maximum element\n",
    "print(rand_arr.argmin()) ###gets the index of the minimum element"
   ]
  },
  {
   "cell_type": "code",
   "execution_count": 25,
   "id": "63a384f0",
   "metadata": {},
   "outputs": [
    {
     "data": {
      "text/plain": [
       "(100,)"
      ]
     },
     "execution_count": 25,
     "metadata": {},
     "output_type": "execute_result"
    }
   ],
   "source": [
    "##########usage of shape() function to determine the number of rows and columns in an array\n",
    "arr.shape"
   ]
  },
  {
   "cell_type": "code",
   "execution_count": 26,
   "id": "9f980efa",
   "metadata": {},
   "outputs": [
    {
     "data": {
      "text/plain": [
       "(10,)"
      ]
     },
     "execution_count": 26,
     "metadata": {},
     "output_type": "execute_result"
    }
   ],
   "source": [
    "rand_arr.shape"
   ]
  },
  {
   "cell_type": "code",
   "execution_count": 27,
   "id": "3424bba2",
   "metadata": {},
   "outputs": [
    {
     "data": {
      "text/plain": [
       "100"
      ]
     },
     "execution_count": 27,
     "metadata": {},
     "output_type": "execute_result"
    }
   ],
   "source": [
    "arr.shape[0]"
   ]
  },
  {
   "cell_type": "code",
   "execution_count": 28,
   "id": "641c8b8a",
   "metadata": {},
   "outputs": [
    {
     "data": {
      "text/plain": [
       "10"
      ]
     },
     "execution_count": 28,
     "metadata": {},
     "output_type": "execute_result"
    }
   ],
   "source": [
    "rand_arr.shape[0]"
   ]
  },
  {
   "cell_type": "code",
   "execution_count": 29,
   "id": "6416ef3f",
   "metadata": {},
   "outputs": [
    {
     "data": {
      "text/plain": [
       "7"
      ]
     },
     "execution_count": 29,
     "metadata": {},
     "output_type": "execute_result"
    }
   ],
   "source": [
    "from numpy.random import randint\n",
    "randint(2,10)"
   ]
  },
  {
   "cell_type": "code",
   "execution_count": 30,
   "id": "8780c214",
   "metadata": {},
   "outputs": [],
   "source": [
    "###Numpy Indexing and Selection\n",
    "import numpy as np"
   ]
  },
  {
   "cell_type": "code",
   "execution_count": 31,
   "id": "33376af8",
   "metadata": {},
   "outputs": [
    {
     "name": "stdout",
     "output_type": "stream",
     "text": [
      "[ 0  1  2  3  4  5  6  7  8  9 10]\n"
     ]
    }
   ],
   "source": [
    "my_array = np.arange(0,11)\n",
    "print(my_array)"
   ]
  },
  {
   "cell_type": "code",
   "execution_count": 32,
   "id": "2454b1aa",
   "metadata": {},
   "outputs": [
    {
     "data": {
      "text/plain": [
       "array([ 0,  1,  2,  3,  4,  5,  6,  7,  8,  9, 10])"
      ]
     },
     "execution_count": 32,
     "metadata": {},
     "output_type": "execute_result"
    }
   ],
   "source": [
    "my_array"
   ]
  },
  {
   "cell_type": "code",
   "execution_count": 33,
   "id": "c948ade5",
   "metadata": {},
   "outputs": [
    {
     "name": "stdout",
     "output_type": "stream",
     "text": [
      "First element of the my_array: 0\n",
      "Second element of the my_array: 1\n",
      "Third element of the my_array: 2\n",
      "[3 4 5 6 7 8]\n"
     ]
    }
   ],
   "source": [
    "print(\"First element of the my_array: \"+str(my_array[0])+\"\")\n",
    "print(\"Second element of the my_array: \"+str(my_array[1])+\"\")\n",
    "print(\"Third element of the my_array: \"+str(my_array[2])+\"\")\n",
    "\n",
    "print(my_array[3:9]) ###get the elements starting at index 3 and ending at index 8 (index 9 is exclusive)"
   ]
  },
  {
   "cell_type": "code",
   "execution_count": 34,
   "id": "97aab82b",
   "metadata": {},
   "outputs": [
    {
     "name": "stdout",
     "output_type": "stream",
     "text": [
      "[0 1 2 3 4 5]\n"
     ]
    }
   ],
   "source": [
    "slice_of_arr = my_array[0:6]\n",
    "print(slice_of_arr)"
   ]
  },
  {
   "cell_type": "code",
   "execution_count": 35,
   "id": "5e6a7812",
   "metadata": {},
   "outputs": [],
   "source": [
    "slice_of_arr[:] = 99"
   ]
  },
  {
   "cell_type": "code",
   "execution_count": 36,
   "id": "fbf5ba2e",
   "metadata": {},
   "outputs": [
    {
     "name": "stdout",
     "output_type": "stream",
     "text": [
      "[99 99 99 99 99 99]\n",
      "[99 99 99 99 99 99  6  7  8  9 10]\n"
     ]
    }
   ],
   "source": [
    "print(slice_of_arr)\n",
    "print(my_array)"
   ]
  },
  {
   "cell_type": "code",
   "execution_count": 37,
   "id": "82178f17",
   "metadata": {},
   "outputs": [
    {
     "name": "stdout",
     "output_type": "stream",
     "text": [
      "[111 111 111 111 111 111 111 111 111 111 111]\n",
      "[99 99 99 99 99 99  6  7  8  9 10]\n"
     ]
    }
   ],
   "source": [
    "#######usage of copy() method\n",
    "copy_arr = my_array.copy()\n",
    "\n",
    "copy_arr[:] = 111 ###make all elements in the copy array 111\n",
    "print(copy_arr) \n",
    "print(my_array)"
   ]
  },
  {
   "cell_type": "code",
   "execution_count": 38,
   "id": "d42b5359",
   "metadata": {},
   "outputs": [],
   "source": [
    "#####Indexiing a 2D Numpy Array\n",
    "\n",
    "array_2d = np.array([[10,15,20],[25,30,35],[40,45,50]])"
   ]
  },
  {
   "cell_type": "code",
   "execution_count": 39,
   "id": "63c0fa5f",
   "metadata": {},
   "outputs": [
    {
     "data": {
      "text/plain": [
       "array([[10, 15, 20],\n",
       "       [25, 30, 35],\n",
       "       [40, 45, 50]])"
      ]
     },
     "execution_count": 39,
     "metadata": {},
     "output_type": "execute_result"
    }
   ],
   "source": [
    "array_2d"
   ]
  },
  {
   "cell_type": "code",
   "execution_count": 40,
   "id": "8b859210",
   "metadata": {},
   "outputs": [
    {
     "data": {
      "text/plain": [
       "15"
      ]
     },
     "execution_count": 40,
     "metadata": {},
     "output_type": "execute_result"
    }
   ],
   "source": [
    "###Double Bracket Format to reach elements in a 2D Numpy array\n",
    "array_2d[0][1]"
   ]
  },
  {
   "cell_type": "code",
   "execution_count": 41,
   "id": "47fdbe7d",
   "metadata": {},
   "outputs": [
    {
     "ename": "SyntaxError",
     "evalue": "invalid non-printable character U+00A0 (1903960476.py, line 13)",
     "output_type": "error",
     "traceback": [
      "\u001b[0;36m  Input \u001b[0;32mIn [41]\u001b[0;36m\u001b[0m\n\u001b[0;31m    print(array_2d[2][0])  ##40\u001b[0m\n\u001b[0m                          ^\u001b[0m\n\u001b[0;31mSyntaxError\u001b[0m\u001b[0;31m:\u001b[0m invalid non-printable character U+00A0\n"
     ]
    }
   ],
   "source": [
    "print(array_2d[0][0])  ##10\n",
    "print(array_2d[0][1])  ##15\n",
    "print(array_2d[0][2])  ##20\n",
    "\n",
    "print()\n",
    "\n",
    "print(array_2d[1][0])  ##25\n",
    "print(array_2d[1][1])  ##30\n",
    "print(array_2d[1][2])  ##35\n",
    "\n",
    "print()\n",
    "\n",
    "print(array_2d[2][0])  ##40\n",
    "print(array_2d[2][1])  ##45\n",
    "print(array_2d[2][2])  ##50"
   ]
  },
  {
   "cell_type": "code",
   "execution_count": 42,
   "id": "817651bb",
   "metadata": {},
   "outputs": [
    {
     "name": "stdout",
     "output_type": "stream",
     "text": [
      "10\n",
      "15\n",
      "20\n"
     ]
    }
   ],
   "source": [
    "######Comma notation to reach elements in a 2D Numpy array\n",
    "print(array_2d[0,0]) #10\n",
    "print(array_2d[0,1]) #15\n",
    "print(array_2d[0,2]) #20"
   ]
  },
  {
   "cell_type": "code",
   "execution_count": 43,
   "id": "46ac78aa",
   "metadata": {},
   "outputs": [
    {
     "data": {
      "text/plain": [
       "array([[15, 20],\n",
       "       [30, 35]])"
      ]
     },
     "execution_count": 43,
     "metadata": {},
     "output_type": "execute_result"
    }
   ],
   "source": [
    "# Selects elements in the 2D array 'array_2d' from the first two rows (up to the 2nd row)\n",
    "# and starting from the second column (column 1 onwards).\n",
    "array_2d[:2,1:] "
   ]
  },
  {
   "cell_type": "code",
   "execution_count": 44,
   "id": "31f89eae",
   "metadata": {},
   "outputs": [
    {
     "name": "stdout",
     "output_type": "stream",
     "text": [
      "[[10 15 20]\n",
      " [25 30 35]]\n"
     ]
    }
   ],
   "source": [
    "print(array_2d[:2]) ##grab the first two rows"
   ]
  },
  {
   "cell_type": "code",
   "execution_count": 45,
   "id": "aa4e0544",
   "metadata": {},
   "outputs": [],
   "source": [
    "arr = np.arange(1,21)"
   ]
  },
  {
   "cell_type": "code",
   "execution_count": 46,
   "id": "61d78215",
   "metadata": {},
   "outputs": [
    {
     "data": {
      "text/plain": [
       "array([ 1,  2,  3,  4,  5,  6,  7,  8,  9, 10, 11, 12, 13, 14, 15, 16, 17,\n",
       "       18, 19, 20])"
      ]
     },
     "execution_count": 46,
     "metadata": {},
     "output_type": "execute_result"
    }
   ],
   "source": [
    "arr"
   ]
  },
  {
   "cell_type": "code",
   "execution_count": 47,
   "id": "2f28d8f0",
   "metadata": {},
   "outputs": [],
   "source": [
    "bool_arr = arr < 15"
   ]
  },
  {
   "cell_type": "code",
   "execution_count": 48,
   "id": "11b03c07",
   "metadata": {},
   "outputs": [
    {
     "data": {
      "text/plain": [
       "array([ True,  True,  True,  True,  True,  True,  True,  True,  True,\n",
       "        True,  True,  True,  True,  True, False, False, False, False,\n",
       "       False, False])"
      ]
     },
     "execution_count": 48,
     "metadata": {},
     "output_type": "execute_result"
    }
   ],
   "source": [
    "bool_arr"
   ]
  },
  {
   "cell_type": "code",
   "execution_count": 49,
   "id": "b317b8d4",
   "metadata": {},
   "outputs": [
    {
     "data": {
      "text/plain": [
       "array([ 1,  2,  3,  4,  5,  6,  7,  8,  9, 10, 11, 12, 13, 14])"
      ]
     },
     "execution_count": 49,
     "metadata": {},
     "output_type": "execute_result"
    }
   ],
   "source": [
    "arr[bool_arr] ##get the slice of the arr where bool_arr is true."
   ]
  },
  {
   "cell_type": "code",
   "execution_count": 50,
   "id": "dba9b152",
   "metadata": {},
   "outputs": [
    {
     "name": "stdout",
     "output_type": "stream",
     "text": [
      "[ 1  2  3  4  5  6  7  8  9 10 11 12 13 14]\n"
     ]
    }
   ],
   "source": [
    "print(arr[bool_arr]) ##get the slice of the arr where bool_arr is true."
   ]
  },
  {
   "cell_type": "code",
   "execution_count": 51,
   "id": "db99406c",
   "metadata": {},
   "outputs": [
    {
     "data": {
      "text/plain": [
       "array([ 8,  9, 10, 11, 12, 13, 14, 15, 16, 17, 18, 19, 20])"
      ]
     },
     "execution_count": 51,
     "metadata": {},
     "output_type": "execute_result"
    }
   ],
   "source": [
    "arr[arr > 7]"
   ]
  },
  {
   "cell_type": "code",
   "execution_count": 52,
   "id": "b2ba861f",
   "metadata": {},
   "outputs": [
    {
     "data": {
      "text/plain": [
       "array([ 1,  2,  3,  4,  5,  6,  7,  8,  9, 10, 11])"
      ]
     },
     "execution_count": 52,
     "metadata": {},
     "output_type": "execute_result"
    }
   ],
   "source": [
    "arr[arr <= 11]"
   ]
  },
  {
   "cell_type": "code",
   "execution_count": 53,
   "id": "b265787d",
   "metadata": {},
   "outputs": [
    {
     "name": "stdout",
     "output_type": "stream",
     "text": [
      "[[ 0  1  2  3  4  5  6  7  8  9]\n",
      " [10 11 12 13 14 15 16 17 18 19]\n",
      " [20 21 22 23 24 25 26 27 28 29]\n",
      " [30 31 32 33 34 35 36 37 38 39]\n",
      " [40 41 42 43 44 45 46 47 48 49]]\n"
     ]
    }
   ],
   "source": [
    "arr_2d = np.arange(50).reshape(5,10)\n",
    "print(arr_2d)"
   ]
  },
  {
   "cell_type": "code",
   "execution_count": 54,
   "id": "94d2f791",
   "metadata": {},
   "outputs": [
    {
     "name": "stdout",
     "output_type": "stream",
     "text": [
      "[[13 14]\n",
      " [23 24]]\n"
     ]
    }
   ],
   "source": [
    "print(arr_2d[1:3,3:5]) ##from row1 to row2 and from column3 to column4."
   ]
  },
  {
   "cell_type": "code",
   "execution_count": 55,
   "id": "31308fb5",
   "metadata": {},
   "outputs": [],
   "source": [
    "####Numpy Operations\n",
    "import numpy as np\n",
    "\n",
    "my_arr = np.arange(0,11)"
   ]
  },
  {
   "cell_type": "code",
   "execution_count": 56,
   "id": "f3aa861e",
   "metadata": {},
   "outputs": [
    {
     "data": {
      "text/plain": [
       "array([ 0,  1,  2,  3,  4,  5,  6,  7,  8,  9, 10])"
      ]
     },
     "execution_count": 56,
     "metadata": {},
     "output_type": "execute_result"
    }
   ],
   "source": [
    "my_arr"
   ]
  },
  {
   "cell_type": "code",
   "execution_count": 57,
   "id": "e4eae55e",
   "metadata": {},
   "outputs": [
    {
     "data": {
      "text/plain": [
       "array([ 0,  2,  4,  6,  8, 10, 12, 14, 16, 18, 20])"
      ]
     },
     "execution_count": 57,
     "metadata": {},
     "output_type": "execute_result"
    }
   ],
   "source": [
    "my_arr + my_arr"
   ]
  },
  {
   "cell_type": "code",
   "execution_count": 58,
   "id": "91a47e80",
   "metadata": {},
   "outputs": [
    {
     "data": {
      "text/plain": [
       "array([  0,  -6, -12, -18, -24, -30, -36, -42, -48, -54, -60])"
      ]
     },
     "execution_count": 58,
     "metadata": {},
     "output_type": "execute_result"
    }
   ],
   "source": [
    "3 * my_arr - 9 * my_arr"
   ]
  },
  {
   "cell_type": "code",
   "execution_count": 59,
   "id": "4c9f05ef",
   "metadata": {},
   "outputs": [
    {
     "data": {
      "text/plain": [
       "array([1000, 1001, 1002, 1003, 1004, 1005, 1006, 1007, 1008, 1009, 1010])"
      ]
     },
     "execution_count": 59,
     "metadata": {},
     "output_type": "execute_result"
    }
   ],
   "source": [
    "my_arr + 1000"
   ]
  },
  {
   "cell_type": "code",
   "execution_count": 60,
   "id": "ff44b840",
   "metadata": {},
   "outputs": [
    {
     "data": {
      "text/plain": [
       "array([1., 1., 1., 1., 1., 1., 1., 1., 1., 1., 1., 1., 1., 1., 1., 1., 1.,\n",
       "       1., 1., 1.])"
      ]
     },
     "execution_count": 60,
     "metadata": {},
     "output_type": "execute_result"
    }
   ],
   "source": [
    "arr / arr"
   ]
  },
  {
   "cell_type": "code",
   "execution_count": 61,
   "id": "7a7921b3",
   "metadata": {},
   "outputs": [
    {
     "name": "stderr",
     "output_type": "stream",
     "text": [
      "/var/folders/8c/5wkl40l145338h0xwgv0k6vm0000gn/T/ipykernel_54305/2285140018.py:1: RuntimeWarning: invalid value encountered in true_divide\n",
      "  my_arr / my_arr\n"
     ]
    },
    {
     "data": {
      "text/plain": [
       "array([nan,  1.,  1.,  1.,  1.,  1.,  1.,  1.,  1.,  1.,  1.])"
      ]
     },
     "execution_count": 61,
     "metadata": {},
     "output_type": "execute_result"
    }
   ],
   "source": [
    "my_arr / my_arr"
   ]
  },
  {
   "cell_type": "code",
   "execution_count": 62,
   "id": "3b6bff93",
   "metadata": {},
   "outputs": [
    {
     "ename": "ZeroDivisionError",
     "evalue": "division by zero",
     "output_type": "error",
     "traceback": [
      "\u001b[0;31m---------------------------------------------------------------------------\u001b[0m",
      "\u001b[0;31mZeroDivisionError\u001b[0m                         Traceback (most recent call last)",
      "Input \u001b[0;32mIn [62]\u001b[0m, in \u001b[0;36m<cell line: 1>\u001b[0;34m()\u001b[0m\n\u001b[0;32m----> 1\u001b[0m \u001b[38;5;241;43m1\u001b[39;49m\u001b[38;5;241;43m/\u001b[39;49m\u001b[38;5;241;43m0\u001b[39;49m\n",
      "\u001b[0;31mZeroDivisionError\u001b[0m: division by zero"
     ]
    }
   ],
   "source": [
    "1/0"
   ]
  },
  {
   "cell_type": "code",
   "execution_count": 63,
   "id": "99d6de39",
   "metadata": {},
   "outputs": [
    {
     "name": "stderr",
     "output_type": "stream",
     "text": [
      "/var/folders/8c/5wkl40l145338h0xwgv0k6vm0000gn/T/ipykernel_54305/1710470366.py:1: RuntimeWarning: divide by zero encountered in true_divide\n",
      "  1/my_arr\n"
     ]
    },
    {
     "data": {
      "text/plain": [
       "array([       inf, 1.        , 0.5       , 0.33333333, 0.25      ,\n",
       "       0.2       , 0.16666667, 0.14285714, 0.125     , 0.11111111,\n",
       "       0.1       ])"
      ]
     },
     "execution_count": 63,
     "metadata": {},
     "output_type": "execute_result"
    }
   ],
   "source": [
    "1/my_arr"
   ]
  },
  {
   "cell_type": "code",
   "execution_count": 64,
   "id": "51eff3c1",
   "metadata": {},
   "outputs": [
    {
     "name": "stdout",
     "output_type": "stream",
     "text": [
      "[   0    1    8   27   64  125  216  343  512  729 1000]\n"
     ]
    }
   ],
   "source": [
    "print(my_arr**3)"
   ]
  },
  {
   "cell_type": "code",
   "execution_count": 65,
   "id": "d296ebc6",
   "metadata": {},
   "outputs": [
    {
     "name": "stdout",
     "output_type": "stream",
     "text": [
      "[  0   1   4   9  16  25  36  49  64  81 100]\n"
     ]
    }
   ],
   "source": [
    "print(my_arr**2)  # Squares each element in my_arr."
   ]
  },
  {
   "cell_type": "code",
   "execution_count": 66,
   "id": "3a1a3ed2",
   "metadata": {},
   "outputs": [
    {
     "data": {
      "text/plain": [
       "array([ 0.        ,  1.        ,  2.82842712,  5.19615242,  8.        ,\n",
       "       11.18033989, 14.69693846, 18.52025918, 22.627417  , 27.        ,\n",
       "       31.6227766 ])"
      ]
     },
     "execution_count": 66,
     "metadata": {},
     "output_type": "execute_result"
    }
   ],
   "source": [
    "np.sqrt(my_arr**3)"
   ]
  },
  {
   "cell_type": "code",
   "execution_count": 67,
   "id": "5359f1cc",
   "metadata": {},
   "outputs": [
    {
     "data": {
      "text/plain": [
       "array([0.        , 1.        , 1.41421356, 1.73205081, 2.        ,\n",
       "       2.23606798, 2.44948974, 2.64575131, 2.82842712, 3.        ,\n",
       "       3.16227766])"
      ]
     },
     "execution_count": 67,
     "metadata": {},
     "output_type": "execute_result"
    }
   ],
   "source": [
    "np.sqrt(my_arr)"
   ]
  },
  {
   "cell_type": "code",
   "execution_count": 68,
   "id": "82c9bfb6",
   "metadata": {},
   "outputs": [
    {
     "name": "stdout",
     "output_type": "stream",
     "text": [
      "[  0.           1.           5.65685425  15.58845727  32.\n",
      "  55.90169944  88.18163074 129.64181424 181.01933598 243.\n",
      " 316.22776602]\n"
     ]
    }
   ],
   "source": [
    "print(np.sqrt(my_arr**5)) ##usage of np.sqrt function to get the square root of each element in the array."
   ]
  },
  {
   "cell_type": "code",
   "execution_count": 69,
   "id": "ce1e8e53",
   "metadata": {},
   "outputs": [
    {
     "name": "stdout",
     "output_type": "stream",
     "text": [
      "[1.00000000e+00 2.71828183e+00 7.38905610e+00 2.00855369e+01\n",
      " 5.45981500e+01 1.48413159e+02 4.03428793e+02 1.09663316e+03\n",
      " 2.98095799e+03 8.10308393e+03 2.20264658e+04]\n"
     ]
    }
   ],
   "source": [
    "print(np.exp(my_arr)) ###calculates the exponential of each element in the array."
   ]
  },
  {
   "cell_type": "code",
   "execution_count": 70,
   "id": "e82b9c95",
   "metadata": {},
   "outputs": [
    {
     "data": {
      "text/plain": [
       "10"
      ]
     },
     "execution_count": 70,
     "metadata": {},
     "output_type": "execute_result"
    }
   ],
   "source": [
    "np.max(my_arr)"
   ]
  },
  {
   "cell_type": "code",
   "execution_count": 71,
   "id": "35012de5",
   "metadata": {},
   "outputs": [
    {
     "name": "stdout",
     "output_type": "stream",
     "text": [
      "10\n"
     ]
    }
   ],
   "source": [
    "print(np.max(my_arr))"
   ]
  },
  {
   "cell_type": "code",
   "execution_count": 72,
   "id": "8055ebbd",
   "metadata": {},
   "outputs": [
    {
     "name": "stdout",
     "output_type": "stream",
     "text": [
      "[ 0.          0.84147098  0.90929743  0.14112001 -0.7568025  -0.95892427\n",
      " -0.2794155   0.6569866   0.98935825  0.41211849 -0.54402111]\n",
      "\n",
      "[ 1.          0.54030231 -0.41614684 -0.9899925  -0.65364362  0.28366219\n",
      "  0.96017029  0.75390225 -0.14550003 -0.91113026 -0.83907153]\n",
      "\n",
      "[ 0.          1.55740772 -2.18503986 -0.14254654  1.15782128 -3.38051501\n",
      " -0.29100619  0.87144798 -6.79971146 -0.45231566  0.64836083]\n",
      "\n",
      "[        inf  0.64209262 -0.45765755 -7.01525255  0.86369115 -0.29581292\n",
      " -3.436353    1.14751542 -0.14706506 -2.21084541  1.54235105]\n"
     ]
    },
    {
     "name": "stderr",
     "output_type": "stream",
     "text": [
      "/var/folders/8c/5wkl40l145338h0xwgv0k6vm0000gn/T/ipykernel_54305/3245661216.py:7: RuntimeWarning: divide by zero encountered in true_divide\n",
      "  print(1/np.tan(my_arr))\n"
     ]
    }
   ],
   "source": [
    "print(np.sin(my_arr))\n",
    "print()\n",
    "print(np.cos(my_arr))\n",
    "print()\n",
    "print(np.tan(my_arr))\n",
    "print()\n",
    "print(1/np.tan(my_arr))"
   ]
  },
  {
   "cell_type": "code",
   "execution_count": 73,
   "id": "829e8ca8",
   "metadata": {},
   "outputs": [
    {
     "name": "stderr",
     "output_type": "stream",
     "text": [
      "/var/folders/8c/5wkl40l145338h0xwgv0k6vm0000gn/T/ipykernel_54305/1063440636.py:1: RuntimeWarning: divide by zero encountered in log\n",
      "  np.log(my_arr)\n"
     ]
    },
    {
     "data": {
      "text/plain": [
       "array([      -inf, 0.        , 0.69314718, 1.09861229, 1.38629436,\n",
       "       1.60943791, 1.79175947, 1.94591015, 2.07944154, 2.19722458,\n",
       "       2.30258509])"
      ]
     },
     "execution_count": 73,
     "metadata": {},
     "output_type": "execute_result"
    }
   ],
   "source": [
    "np.log(my_arr)"
   ]
  },
  {
   "cell_type": "code",
   "execution_count": 74,
   "id": "24748332",
   "metadata": {},
   "outputs": [
    {
     "name": "stdout",
     "output_type": "stream",
     "text": [
      "3\n"
     ]
    }
   ],
   "source": [
    "print(np.add(1,2))"
   ]
  },
  {
   "cell_type": "code",
   "execution_count": 75,
   "id": "3fb4aa17",
   "metadata": {},
   "outputs": [
    {
     "name": "stdout",
     "output_type": "stream",
     "text": [
      "-4\n"
     ]
    }
   ],
   "source": [
    "result = np.subtract(np.max([5, 3]), np.min([77, 9]))\n",
    "print(result)"
   ]
  },
  {
   "cell_type": "code",
   "execution_count": 76,
   "id": "5ef33b09",
   "metadata": {},
   "outputs": [
    {
     "data": {
      "text/plain": [
       "array([0.94736315, 0.1403436 , 0.53790664, 0.84897623, 0.83123784,\n",
       "       0.70406724, 0.25712155, 0.40335835, 0.21066168, 0.36780657,\n",
       "       0.53955007, 0.93322795, 0.64371641, 0.25904967, 0.88257587,\n",
       "       0.6630547 , 0.6741547 , 0.15563047, 0.349906  , 0.37273134,\n",
       "       0.66466043, 0.68359917, 0.28062739, 0.0340056 , 0.71724265])"
      ]
     },
     "execution_count": 76,
     "metadata": {},
     "output_type": "execute_result"
    }
   ],
   "source": [
    "np.random.rand(25) #Generates 25 random numbers from a uniform distribution (numbers are between 0 and 1)."
   ]
  },
  {
   "cell_type": "code",
   "execution_count": 77,
   "id": "a14138c3",
   "metadata": {},
   "outputs": [
    {
     "data": {
      "text/plain": [
       "array([ 1.30842756, -1.35047093, -0.53111256,  1.30393627,  1.16763642,\n",
       "        1.11860529, -0.72223246,  1.35366858,  0.26412857,  1.05718545,\n",
       "       -1.25360146,  0.04042753, -1.23266154,  1.01414932, -0.3802703 ,\n",
       "       -1.108127  , -1.00177831,  1.51866628, -0.3730583 , -0.39702563,\n",
       "        0.15533587,  0.52252486, -0.06176189,  1.18849394, -0.719075  ,\n",
       "       -0.56499317, -0.44687187,  0.17729297, -0.53434344,  0.48974449])"
      ]
     },
     "execution_count": 77,
     "metadata": {},
     "output_type": "execute_result"
    }
   ],
   "source": [
    "np.random.randn(30)  #30 random numbers drawn from a standard normal distribution."
   ]
  },
  {
   "cell_type": "code",
   "execution_count": 78,
   "id": "cc0ff653",
   "metadata": {},
   "outputs": [
    {
     "data": {
      "text/plain": [
       "array([0.        , 0.05263158, 0.10526316, 0.15789474, 0.21052632,\n",
       "       0.26315789, 0.31578947, 0.36842105, 0.42105263, 0.47368421,\n",
       "       0.52631579, 0.57894737, 0.63157895, 0.68421053, 0.73684211,\n",
       "       0.78947368, 0.84210526, 0.89473684, 0.94736842, 1.        ])"
      ]
     },
     "execution_count": 78,
     "metadata": {},
     "output_type": "execute_result"
    }
   ],
   "source": [
    "np.linspace(0,1,20) #creates 20 linearly spaced points between 0 and 1."
   ]
  },
  {
   "cell_type": "code",
   "execution_count": 79,
   "id": "45174fb7",
   "metadata": {},
   "outputs": [
    {
     "name": "stdout",
     "output_type": "stream",
     "text": [
      "[[ 1  2  3  4  5]\n",
      " [ 6  7  8  9 10]\n",
      " [11 12 13 14 15]\n",
      " [16 17 18 19 20]\n",
      " [21 22 23 24 25]]\n"
     ]
    }
   ],
   "source": [
    "mat = np.arange(1,26).reshape(5,5)\n",
    "print(mat)"
   ]
  },
  {
   "cell_type": "code",
   "execution_count": 80,
   "id": "b8a168f2",
   "metadata": {},
   "outputs": [
    {
     "name": "stdout",
     "output_type": "stream",
     "text": [
      "[[12 13 14 15]\n",
      " [17 18 19 20]\n",
      " [22 23 24 25]]\n",
      "\n",
      "[[11 12 13 14 15]\n",
      " [16 17 18 19 20]\n",
      " [21 22 23 24 25]]\n"
     ]
    }
   ],
   "source": [
    "print(mat[2:5,1:])\n",
    "print()\n",
    "print(mat[2:5])"
   ]
  },
  {
   "cell_type": "code",
   "execution_count": 82,
   "id": "cd234b11",
   "metadata": {},
   "outputs": [
    {
     "name": "stdout",
     "output_type": "stream",
     "text": [
      "Summation of all values in the matrix mat is:  325\n",
      "Columnwise summations for the matrix mat are: [55 60 65 70 75]\n",
      "Rowwise summations for the matrix mat are: [ 15  40  65  90 115]\n",
      "The standard deviation of the values in the matrix mat is: 7.211102550927978\n"
     ]
    }
   ],
   "source": [
    "##axis = 0 (columnwise summation)##\n",
    "##axis = 1 (rowwise summation)##\n",
    "\n",
    "\n",
    "sum_of_all = mat.sum()\n",
    "print(\"Summation of all values in the matrix mat is:  \"+str(sum_of_all)+\"\")\n",
    "\n",
    "columnwise_summations = mat.sum(axis = 0)\n",
    "print(\"Columnwise summations for the matrix mat are: \"+str(columnwise_summations)+\"\")\n",
    "\n",
    "rowwise_summations = mat.sum(axis = 1)\n",
    "print(\"Rowwise summations for the matrix mat are: \"+str(rowwise_summations)+\"\")\n",
    "\n",
    "standard_dev = mat.std()\n",
    "print(\"The standard deviation of the values in the matrix mat is: \"+str(standard_dev)+\"\")"
   ]
  },
  {
   "cell_type": "code",
   "execution_count": null,
   "id": "d2cae271",
   "metadata": {},
   "outputs": [],
   "source": []
  },
  {
   "cell_type": "code",
   "execution_count": null,
   "id": "7b181b39",
   "metadata": {},
   "outputs": [],
   "source": []
  },
  {
   "cell_type": "code",
   "execution_count": null,
   "id": "c9d59871",
   "metadata": {},
   "outputs": [],
   "source": []
  },
  {
   "cell_type": "code",
   "execution_count": null,
   "id": "badbb5c9",
   "metadata": {},
   "outputs": [],
   "source": []
  },
  {
   "cell_type": "code",
   "execution_count": null,
   "id": "f2ae22a9",
   "metadata": {},
   "outputs": [],
   "source": []
  }
 ],
 "metadata": {
  "kernelspec": {
   "display_name": "Python 3 (ipykernel)",
   "language": "python",
   "name": "python3"
  },
  "language_info": {
   "codemirror_mode": {
    "name": "ipython",
    "version": 3
   },
   "file_extension": ".py",
   "mimetype": "text/x-python",
   "name": "python",
   "nbconvert_exporter": "python",
   "pygments_lexer": "ipython3",
   "version": "3.9.12"
  }
 },
 "nbformat": 4,
 "nbformat_minor": 5
}
