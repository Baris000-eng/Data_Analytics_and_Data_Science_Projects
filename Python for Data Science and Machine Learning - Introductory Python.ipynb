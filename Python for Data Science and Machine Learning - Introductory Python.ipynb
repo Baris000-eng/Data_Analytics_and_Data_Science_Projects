{
 "cells": [
  {
   "cell_type": "markdown",
   "id": "c679fa14",
   "metadata": {},
   "source": [
    "#Data types\n",
    "\n",
    "#Integers\n",
    "1"
   ]
  },
  {
   "cell_type": "code",
   "execution_count": 2,
   "id": "576afe1c",
   "metadata": {},
   "outputs": [
    {
     "data": {
      "text/plain": [
       "1.0"
      ]
     },
     "execution_count": 2,
     "metadata": {},
     "output_type": "execute_result"
    }
   ],
   "source": [
    "#######Floats\n",
    "1.0"
   ]
  },
  {
   "cell_type": "code",
   "execution_count": 3,
   "id": "0755b744",
   "metadata": {},
   "outputs": [
    {
     "data": {
      "text/plain": [
       "2"
      ]
     },
     "execution_count": 3,
     "metadata": {},
     "output_type": "execute_result"
    }
   ],
   "source": [
    "1+1"
   ]
  },
  {
   "cell_type": "code",
   "execution_count": 4,
   "id": "d9df303c",
   "metadata": {},
   "outputs": [
    {
     "data": {
      "text/plain": [
       "6"
      ]
     },
     "execution_count": 4,
     "metadata": {},
     "output_type": "execute_result"
    }
   ],
   "source": [
    "2 * 3"
   ]
  },
  {
   "cell_type": "code",
   "execution_count": 5,
   "id": "75362aa3",
   "metadata": {},
   "outputs": [
    {
     "data": {
      "text/plain": [
       "0.6666666666666666"
      ]
     },
     "execution_count": 5,
     "metadata": {},
     "output_type": "execute_result"
    }
   ],
   "source": [
    "2 / 3.0"
   ]
  },
  {
   "cell_type": "code",
   "execution_count": 6,
   "id": "eb96319b",
   "metadata": {},
   "outputs": [
    {
     "data": {
      "text/plain": [
       "16"
      ]
     },
     "execution_count": 6,
     "metadata": {},
     "output_type": "execute_result"
    }
   ],
   "source": [
    "2 ** 4 # 2 to the power of 4. '**' is the exponentiation operator."
   ]
  },
  {
   "cell_type": "code",
   "execution_count": 7,
   "id": "47b9d21c",
   "metadata": {},
   "outputs": [
    {
     "data": {
      "text/plain": [
       "23"
      ]
     },
     "execution_count": 7,
     "metadata": {},
     "output_type": "execute_result"
    }
   ],
   "source": [
    "2 + 3 * 5 + 6 ##### Firstly, multiplication is evaluated. Then, the operations are evaluated from left to right."
   ]
  },
  {
   "cell_type": "code",
   "execution_count": 8,
   "id": "1b4d8064",
   "metadata": {},
   "outputs": [
    {
     "data": {
      "text/plain": [
       "96"
      ]
     },
     "execution_count": 8,
     "metadata": {},
     "output_type": "execute_result"
    }
   ],
   "source": [
    "(2 + 6) * (33 - 21) #### = 8 * 12 = 96 ####"
   ]
  },
  {
   "cell_type": "code",
   "execution_count": 11,
   "id": "428aad14",
   "metadata": {},
   "outputs": [
    {
     "data": {
      "text/plain": [
       "0"
      ]
     },
     "execution_count": 11,
     "metadata": {},
     "output_type": "execute_result"
    }
   ],
   "source": [
    "##########Remainder operator = % ###############\n",
    "4 % 2\n"
   ]
  },
  {
   "cell_type": "code",
   "execution_count": 12,
   "id": "beb263d0",
   "metadata": {},
   "outputs": [
    {
     "data": {
      "text/plain": [
       "1"
      ]
     },
     "execution_count": 12,
     "metadata": {},
     "output_type": "execute_result"
    }
   ],
   "source": [
    "5%2"
   ]
  },
  {
   "cell_type": "code",
   "execution_count": 13,
   "id": "9f57dfcb",
   "metadata": {},
   "outputs": [
    {
     "data": {
      "text/plain": [
       "2"
      ]
     },
     "execution_count": 13,
     "metadata": {},
     "output_type": "execute_result"
    }
   ],
   "source": [
    "8%3"
   ]
  },
  {
   "cell_type": "code",
   "execution_count": 14,
   "id": "3cb9133c",
   "metadata": {},
   "outputs": [],
   "source": [
    "var = 11"
   ]
  },
  {
   "cell_type": "code",
   "execution_count": 15,
   "id": "f4e038b6",
   "metadata": {},
   "outputs": [
    {
     "data": {
      "text/plain": [
       "11"
      ]
     },
     "execution_count": 15,
     "metadata": {},
     "output_type": "execute_result"
    }
   ],
   "source": [
    "var"
   ]
  },
  {
   "cell_type": "code",
   "execution_count": 16,
   "id": "d3822cac",
   "metadata": {},
   "outputs": [],
   "source": [
    "x = 2\n",
    "y = 3"
   ]
  },
  {
   "cell_type": "code",
   "execution_count": 17,
   "id": "bb31a0b1",
   "metadata": {},
   "outputs": [
    {
     "data": {
      "text/plain": [
       "13"
      ]
     },
     "execution_count": 17,
     "metadata": {},
     "output_type": "execute_result"
    }
   ],
   "source": [
    "x * x + y * y ########we can call the variables in a seperate cell and do operations with them."
   ]
  },
  {
   "cell_type": "code",
   "execution_count": 18,
   "id": "d824ade5",
   "metadata": {},
   "outputs": [
    {
     "ename": "SyntaxError",
     "evalue": "invalid syntax (2910454808.py, line 1)",
     "output_type": "error",
     "traceback": [
      "\u001b[0;36m  Input \u001b[0;32mIn [18]\u001b[0;36m\u001b[0m\n\u001b[0;31m    12var = 13\u001b[0m\n\u001b[0m      ^\u001b[0m\n\u001b[0;31mSyntaxError\u001b[0m\u001b[0;31m:\u001b[0m invalid syntax\n"
     ]
    }
   ],
   "source": [
    "12var = 13 ##########This will give error because the variable names cannot start with numeric"
   ]
  },
  {
   "cell_type": "code",
   "execution_count": 19,
   "id": "2b8e13f0",
   "metadata": {},
   "outputs": [],
   "source": [
    "x = 7"
   ]
  },
  {
   "cell_type": "code",
   "execution_count": 20,
   "id": "9a4941d2",
   "metadata": {},
   "outputs": [],
   "source": [
    "x = x * x "
   ]
  },
  {
   "cell_type": "code",
   "execution_count": 21,
   "id": "73882806",
   "metadata": {},
   "outputs": [
    {
     "data": {
      "text/plain": [
       "49"
      ]
     },
     "execution_count": 21,
     "metadata": {},
     "output_type": "execute_result"
    }
   ],
   "source": [
    "x"
   ]
  },
  {
   "cell_type": "code",
   "execution_count": 22,
   "id": "f9b13081",
   "metadata": {},
   "outputs": [],
   "source": [
    "a = 5"
   ]
  },
  {
   "cell_type": "code",
   "execution_count": 23,
   "id": "0150985c",
   "metadata": {},
   "outputs": [],
   "source": [
    "a = a + a"
   ]
  },
  {
   "cell_type": "code",
   "execution_count": 24,
   "id": "b33bbd0c",
   "metadata": {},
   "outputs": [
    {
     "data": {
      "text/plain": [
       "10"
      ]
     },
     "execution_count": 24,
     "metadata": {},
     "output_type": "execute_result"
    }
   ],
   "source": [
    "a"
   ]
  },
  {
   "cell_type": "code",
   "execution_count": 25,
   "id": "3d914ffb",
   "metadata": {},
   "outputs": [],
   "source": [
    "name_of_var = 18 ########proper syntax is to seperate with underscores."
   ]
  },
  {
   "cell_type": "code",
   "execution_count": 26,
   "id": "57fce9d4",
   "metadata": {},
   "outputs": [
    {
     "data": {
      "text/plain": [
       "'single quotation mark'"
      ]
     },
     "execution_count": 26,
     "metadata": {},
     "output_type": "execute_result"
    }
   ],
   "source": [
    "##############Python Strings\n",
    "\n",
    "'single quotation mark'"
   ]
  },
  {
   "cell_type": "code",
   "execution_count": 27,
   "id": "e499b66a",
   "metadata": {},
   "outputs": [
    {
     "data": {
      "text/plain": [
       "'double quotation mark'"
      ]
     },
     "execution_count": 27,
     "metadata": {},
     "output_type": "execute_result"
    }
   ],
   "source": [
    "\"double quotation mark\""
   ]
  },
  {
   "cell_type": "code",
   "execution_count": 28,
   "id": "e716f238",
   "metadata": {},
   "outputs": [
    {
     "data": {
      "text/plain": [
       "\"I can't go outside today.\""
      ]
     },
     "execution_count": 28,
     "metadata": {},
     "output_type": "execute_result"
    }
   ],
   "source": [
    "\"I can't go outside today.\" ######Single quote inside double quote."
   ]
  },
  {
   "cell_type": "code",
   "execution_count": 29,
   "id": "e08b2569",
   "metadata": {},
   "outputs": [],
   "source": [
    "x = 'hello'"
   ]
  },
  {
   "cell_type": "code",
   "execution_count": 30,
   "id": "b80fa4f3",
   "metadata": {},
   "outputs": [
    {
     "data": {
      "text/plain": [
       "'hello'"
      ]
     },
     "execution_count": 30,
     "metadata": {},
     "output_type": "execute_result"
    }
   ],
   "source": [
    "x"
   ]
  },
  {
   "cell_type": "code",
   "execution_count": 31,
   "id": "0b22dc24",
   "metadata": {},
   "outputs": [],
   "source": [
    "y = 'Hello World'"
   ]
  },
  {
   "cell_type": "code",
   "execution_count": 32,
   "id": "64a18cd8",
   "metadata": {},
   "outputs": [
    {
     "data": {
      "text/plain": [
       "'Hello World'"
      ]
     },
     "execution_count": 32,
     "metadata": {},
     "output_type": "execute_result"
    }
   ],
   "source": [
    "y"
   ]
  },
  {
   "cell_type": "code",
   "execution_count": 33,
   "id": "3189d474",
   "metadata": {},
   "outputs": [
    {
     "name": "stdout",
     "output_type": "stream",
     "text": [
      "hello\n",
      "Hello World\n",
      "hello Hello World\n"
     ]
    }
   ],
   "source": [
    "print(x)\n",
    "print(y)\n",
    "print(x,y)"
   ]
  },
  {
   "cell_type": "code",
   "execution_count": 34,
   "id": "0ba83832",
   "metadata": {},
   "outputs": [],
   "source": [
    "number = 20\n",
    "name = 'Mike'"
   ]
  },
  {
   "cell_type": "code",
   "execution_count": 35,
   "id": "cae6f225",
   "metadata": {},
   "outputs": [
    {
     "data": {
      "text/plain": [
       "'My number is 20 and my name is Mike'"
      ]
     },
     "execution_count": 35,
     "metadata": {},
     "output_type": "execute_result"
    }
   ],
   "source": [
    "'My number is {} and my name is {}'.format(number, name) ######one way of formatting the string"
   ]
  },
  {
   "cell_type": "code",
   "execution_count": 36,
   "id": "8fce7b58",
   "metadata": {},
   "outputs": [
    {
     "name": "stdout",
     "output_type": "stream",
     "text": [
      "My number is 20 and my name is Mike\n"
     ]
    }
   ],
   "source": [
    "print('My number is {} and my name is {}'.format(number, name)) #######another way of formatting the string"
   ]
  },
  {
   "cell_type": "code",
   "execution_count": 37,
   "id": "0e33ccff",
   "metadata": {},
   "outputs": [
    {
     "name": "stdout",
     "output_type": "stream",
     "text": [
      "My number is 20 and my name is Mike\n"
     ]
    }
   ],
   "source": [
    "print('My number is {one} and my name is {two}'.format(one=number, two=name)) #######third way of formatting the string"
   ]
  },
  {
   "cell_type": "code",
   "execution_count": 38,
   "id": "28e9ffc2",
   "metadata": {},
   "outputs": [],
   "source": [
    "string = 'Hello World'"
   ]
  },
  {
   "cell_type": "code",
   "execution_count": 39,
   "id": "70711ee9",
   "metadata": {},
   "outputs": [
    {
     "data": {
      "text/plain": [
       "'H'"
      ]
     },
     "execution_count": 39,
     "metadata": {},
     "output_type": "execute_result"
    }
   ],
   "source": [
    "string[0]"
   ]
  },
  {
   "cell_type": "code",
   "execution_count": 40,
   "id": "c35ebb8e",
   "metadata": {},
   "outputs": [
    {
     "data": {
      "text/plain": [
       "'e'"
      ]
     },
     "execution_count": 40,
     "metadata": {},
     "output_type": "execute_result"
    }
   ],
   "source": [
    "string[1]"
   ]
  },
  {
   "cell_type": "code",
   "execution_count": 41,
   "id": "d8cb3299",
   "metadata": {},
   "outputs": [
    {
     "data": {
      "text/plain": [
       "'d'"
      ]
     },
     "execution_count": 41,
     "metadata": {},
     "output_type": "execute_result"
    }
   ],
   "source": [
    "string[10]"
   ]
  },
  {
   "cell_type": "code",
   "execution_count": 46,
   "id": "3eaf024a",
   "metadata": {},
   "outputs": [
    {
     "name": "stdout",
     "output_type": "stream",
     "text": [
      "H\n",
      "e\n",
      "l\n",
      "l\n",
      "o\n",
      " \n",
      "W\n",
      "o\n",
      "r\n",
      "l\n",
      "d\n",
      "d\n"
     ]
    }
   ],
   "source": [
    "print(string[0])\n",
    "print(string[1])\n",
    "print(string[2])\n",
    "print(string[3])\n",
    "print(string[4])\n",
    "print(string[5])\n",
    "print(string[6])\n",
    "print(string[7])\n",
    "print(string[8])\n",
    "print(string[9])\n",
    "print(string[10]) #same as print(string[-1])\n",
    "print(string[-1])\n"
   ]
  },
  {
   "cell_type": "code",
   "execution_count": 49,
   "id": "29d0a689",
   "metadata": {},
   "outputs": [
    {
     "name": "stdout",
     "output_type": "stream",
     "text": [
      "H H\n",
      "e e\n",
      "l l\n",
      "l l\n",
      "o o\n",
      "   \n",
      "W W\n",
      "o o\n",
      "r r\n",
      "l l\n",
      "d d\n"
     ]
    }
   ],
   "source": [
    "print(string[0], string[-11])\n",
    "print(string[1], string[-10])\n",
    "print(string[2], string[-9])\n",
    "print(string[3], string[-8])\n",
    "print(string[4], string[-7])\n",
    "print(string[5], string[-6])\n",
    "print(string[6], string[-5])\n",
    "print(string[7], string[-4])\n",
    "print(string[8], string[-3])\n",
    "print(string[9], string[-2])\n",
    "print(string[10], string[-1])"
   ]
  },
  {
   "cell_type": "code",
   "execution_count": 53,
   "id": "14c639c0",
   "metadata": {},
   "outputs": [
    {
     "name": "stdout",
     "output_type": "stream",
     "text": [
      "abcdefghijklmnopqrstuvwxyz\n",
      "abcde\n",
      "efghi\n"
     ]
    }
   ],
   "source": [
    "alphabet_string = \"abcdefghijklmnopqrstuvwxyz\"\n",
    "\n",
    "# Starting at index 0, grab everything beyond it within the alphabet_string.\n",
    "print(alphabet_string[0:])\n",
    "\n",
    "\n",
    "# Grab everything up to but not including index 5 (up to but including index 4) within the alphabet_string.\n",
    "print(alphabet_string[:5])\n",
    "\n",
    "\n",
    "# Grab everything starting at index 4 up to the index 9 not including the index 9\n",
    "# (starting at index 4 and ending at index 8) within the alphabet_string.\n",
    "print(alphabet_string[4:9])\n"
   ]
  },
  {
   "cell_type": "code",
   "execution_count": 54,
   "id": "fb71abb4",
   "metadata": {},
   "outputs": [],
   "source": [
    "############################Python Lists###########################################"
   ]
  },
  {
   "cell_type": "code",
   "execution_count": 55,
   "id": "c4d2d408",
   "metadata": {},
   "outputs": [
    {
     "name": "stdout",
     "output_type": "stream",
     "text": [
      "[1, 2, 3]\n",
      "['a', 'b', 'c']\n",
      "[0, 1, 2]\n",
      "[0, 1, 2, 99, 17]\n"
     ]
    }
   ],
   "source": [
    "lst1 = [1, 2, 3]\n",
    "lst2 = ['a', 'b', 'c']\n",
    "lst3 = [0, 1, 2]\n",
    "\n",
    "print(lst1)\n",
    "print(lst2)\n",
    "print(lst3)\n",
    "lst3.append(99)\n",
    "lst3.append(17)\n",
    "print(lst3)"
   ]
  },
  {
   "cell_type": "code",
   "execution_count": 57,
   "id": "4d529e9f",
   "metadata": {},
   "outputs": [
    {
     "name": "stdout",
     "output_type": "stream",
     "text": [
      "[0, 1, 2, 99, 17]\n",
      "[1, 2, 99]\n"
     ]
    }
   ],
   "source": [
    "print(lst3[0:])  ### grab everything beyond the index 0 within the list called lst3 ###\n",
    "print(lst3[1:4]) ### grab the list elements starting at index 1 and ending at index 3 (not including the index 4) ###"
   ]
  },
  {
   "cell_type": "code",
   "execution_count": 61,
   "id": "5c66bebd",
   "metadata": {},
   "outputs": [
    {
     "name": "stdout",
     "output_type": "stream",
     "text": [
      "7777\n",
      "1\n",
      "\n",
      "[7777, 1, 2, 99, 17]\n",
      "[8888, 1, 2, 99, 17]\n"
     ]
    }
   ],
   "source": [
    "print(lst3[0]) ### get the first element of the list called lst3 and print it\n",
    "print(lst3[1]) ### get the second element of the list called lst3 and print it\n",
    "print()\n",
    "print(lst3) ##########previous version of the list called lst3\n",
    "lst3[0] = 8888 #########update the first element of lst3 to 8888\n",
    "print(lst3)  #########updated version of the list called lst3"
   ]
  },
  {
   "cell_type": "code",
   "execution_count": 62,
   "id": "990b3bc4",
   "metadata": {},
   "outputs": [],
   "source": [
    "nested_list = [[1,2, [3,4,5], [6,7], [8,9,10,[11,12]], 13], 14]"
   ]
  },
  {
   "cell_type": "code",
   "execution_count": 66,
   "id": "5c484817",
   "metadata": {},
   "outputs": [
    {
     "name": "stdout",
     "output_type": "stream",
     "text": [
      "[3, 4, 5]\n",
      "12\n",
      "[11, 12]\n",
      "[8, 9, 10, [11, 12]]\n"
     ]
    }
   ],
   "source": [
    "print(nested_list[0][2][0:])\n",
    "print(nested_list[0][4][3][1])\n",
    "print(nested_list[0][4][3])\n",
    "print(nested_list[0][4])"
   ]
  },
  {
   "cell_type": "code",
   "execution_count": 67,
   "id": "42622af2",
   "metadata": {},
   "outputs": [
    {
     "name": "stdout",
     "output_type": "stream",
     "text": [
      "targeted\n"
     ]
    }
   ],
   "source": [
    "second_nested_list = ['hello', [1, 'targeted'], 3.14, [9, 17]]\n",
    "print(second_nested_list[1][1]) #####grabs the second element in the second element of the outer list"
   ]
  },
  {
   "cell_type": "code",
   "execution_count": 68,
   "id": "61ff2ced",
   "metadata": {},
   "outputs": [
    {
     "name": "stdout",
     "output_type": "stream",
     "text": [
      "value1\n",
      "345\n",
      "value1 345\n"
     ]
    }
   ],
   "source": [
    "#############Python Dictionaries\n",
    "d = {'key1': 'value1', 'key2': 345}\n",
    "print(d['key1'])\n",
    "print(d['key2'])\n",
    "print(d['key1'], d['key2'])"
   ]
  },
  {
   "cell_type": "code",
   "execution_count": 70,
   "id": "66d28f5a",
   "metadata": {},
   "outputs": [
    {
     "name": "stdout",
     "output_type": "stream",
     "text": [
      "[7, 8, 9, 10, 11]\n",
      "5\n"
     ]
    }
   ],
   "source": [
    "dictionary = {'k1': [7,8,9,10,11]}\n",
    "print(dictionary['k1']) ## Accessing the value within the dictionary corresponding to the key 'k1'.\n",
    "print(len(dictionary['k1'])) ###It will get the length of the value within the dictionary corresponding to the key 'k1'."
   ]
  },
  {
   "cell_type": "code",
   "execution_count": 73,
   "id": "c7b7dce2",
   "metadata": {},
   "outputs": [
    {
     "name": "stdout",
     "output_type": "stream",
     "text": [
      "7\n",
      "8\n",
      "9\n",
      "10\n",
      "11\n"
     ]
    },
    {
     "ename": "IndexError",
     "evalue": "list index out of range",
     "output_type": "error",
     "traceback": [
      "\u001b[0;31m---------------------------------------------------------------------------\u001b[0m",
      "\u001b[0;31mIndexError\u001b[0m                                Traceback (most recent call last)",
      "Input \u001b[0;32mIn [73]\u001b[0m, in \u001b[0;36m<cell line: 6>\u001b[0;34m()\u001b[0m\n\u001b[1;32m      4\u001b[0m \u001b[38;5;28mprint\u001b[39m(dictionary[\u001b[38;5;124m'\u001b[39m\u001b[38;5;124mk1\u001b[39m\u001b[38;5;124m'\u001b[39m][\u001b[38;5;241m3\u001b[39m])\n\u001b[1;32m      5\u001b[0m \u001b[38;5;28mprint\u001b[39m(dictionary[\u001b[38;5;124m'\u001b[39m\u001b[38;5;124mk1\u001b[39m\u001b[38;5;124m'\u001b[39m][\u001b[38;5;241m4\u001b[39m])\n\u001b[0;32m----> 6\u001b[0m \u001b[38;5;28mprint\u001b[39m(\u001b[43mdictionary\u001b[49m\u001b[43m[\u001b[49m\u001b[38;5;124;43m'\u001b[39;49m\u001b[38;5;124;43mk1\u001b[39;49m\u001b[38;5;124;43m'\u001b[39;49m\u001b[43m]\u001b[49m\u001b[43m[\u001b[49m\u001b[38;5;241;43m5\u001b[39;49m\u001b[43m]\u001b[49m)\n",
      "\u001b[0;31mIndexError\u001b[0m: list index out of range"
     ]
    }
   ],
   "source": [
    "print(dictionary['k1'][0])\n",
    "print(dictionary['k1'][1])\n",
    "print(dictionary['k1'][2])\n",
    "print(dictionary['k1'][3])\n",
    "print(dictionary['k1'][4])\n",
    "print(dictionary['k1'][5]) #######This will throw an index error because it exceeds the valid index range for the list as the value."
   ]
  },
  {
   "cell_type": "code",
   "execution_count": 74,
   "id": "d5d67aa5",
   "metadata": {},
   "outputs": [],
   "source": [
    "tuple_element = (1,2,3) #######defining a tuple\n"
   ]
  },
  {
   "cell_type": "code",
   "execution_count": 75,
   "id": "1a9455b7",
   "metadata": {},
   "outputs": [
    {
     "name": "stdout",
     "output_type": "stream",
     "text": [
      "1 2 3\n"
     ]
    }
   ],
   "source": [
    "print(tuple_element[0], tuple_element[1], tuple_element[2])"
   ]
  },
  {
   "cell_type": "code",
   "execution_count": 76,
   "id": "5b6d76ac",
   "metadata": {},
   "outputs": [
    {
     "ename": "TypeError",
     "evalue": "'tuple' object does not support item assignment",
     "output_type": "error",
     "traceback": [
      "\u001b[0;31m---------------------------------------------------------------------------\u001b[0m",
      "\u001b[0;31mTypeError\u001b[0m                                 Traceback (most recent call last)",
      "Input \u001b[0;32mIn [76]\u001b[0m, in \u001b[0;36m<cell line: 1>\u001b[0;34m()\u001b[0m\n\u001b[0;32m----> 1\u001b[0m tuple_element[\u001b[38;5;241m1\u001b[39m] \u001b[38;5;241m=\u001b[39m \u001b[38;5;124m'\u001b[39m\u001b[38;5;124mHello World\u001b[39m\u001b[38;5;124m'\u001b[39m\n\u001b[1;32m      2\u001b[0m \u001b[38;5;28mprint\u001b[39m(tuple_element)\n",
      "\u001b[0;31mTypeError\u001b[0m: 'tuple' object does not support item assignment"
     ]
    }
   ],
   "source": [
    "tuple_element[1] = 'Hello World' ####It will throw error. Because, tuples are immutable.\n",
    "print(tuple_element)"
   ]
  },
  {
   "cell_type": "code",
   "execution_count": 77,
   "id": "80283854",
   "metadata": {},
   "outputs": [
    {
     "name": "stdout",
     "output_type": "stream",
     "text": [
      "{1, 2, 3, 4, 5, 6, 7, 8}\n"
     ]
    }
   ],
   "source": [
    "set_structure = {1,2,3,4,5,6,7,8,1,1,1,1,7,8,7,6,6,6,6,5,5}\n",
    "print(set_structure) ########### it will return the unique elements in the set called set_structure. Because by definition, a set contains unique elements."
   ]
  },
  {
   "cell_type": "code",
   "execution_count": 78,
   "id": "25bf00aa",
   "metadata": {},
   "outputs": [
    {
     "name": "stdout",
     "output_type": "stream",
     "text": [
      "{1, 2, 3, 4, 5, 6, 7, 8}\n",
      "{1, 2, 3, 4, 5, 6, 7, 8, 9}\n"
     ]
    }
   ],
   "source": [
    "set_structure.add(7) ########already existing in the set, thus, it will not add 7 to the set called set_structure.\n",
    "print(set_structure)\n",
    "\n",
    "set_structure.add(9) ########non-existing in the set, thus, it will add 9 to the set called set_structure.\n",
    "print(set_structure)"
   ]
  },
  {
   "cell_type": "code",
   "execution_count": 79,
   "id": "ec448dca",
   "metadata": {},
   "outputs": [
    {
     "data": {
      "text/plain": [
       "False"
      ]
     },
     "execution_count": 79,
     "metadata": {},
     "output_type": "execute_result"
    }
   ],
   "source": [
    "1 > 5 ###########greater than operator"
   ]
  },
  {
   "cell_type": "code",
   "execution_count": 80,
   "id": "771dd081",
   "metadata": {},
   "outputs": [
    {
     "data": {
      "text/plain": [
       "True"
      ]
     },
     "execution_count": 80,
     "metadata": {},
     "output_type": "execute_result"
    }
   ],
   "source": [
    "5 >= 1 ###########greater than or equal to operator"
   ]
  },
  {
   "cell_type": "code",
   "execution_count": 81,
   "id": "1c97c75a",
   "metadata": {},
   "outputs": [
    {
     "data": {
      "text/plain": [
       "True"
      ]
     },
     "execution_count": 81,
     "metadata": {},
     "output_type": "execute_result"
    }
   ],
   "source": [
    "5 > 1 ############greater than operator"
   ]
  },
  {
   "cell_type": "code",
   "execution_count": 82,
   "id": "fe8e2242",
   "metadata": {},
   "outputs": [
    {
     "data": {
      "text/plain": [
       "False"
      ]
     },
     "execution_count": 82,
     "metadata": {},
     "output_type": "execute_result"
    }
   ],
   "source": [
    "1 >= 5 ###########greater than or equal to operator"
   ]
  },
  {
   "cell_type": "code",
   "execution_count": 83,
   "id": "30ea6dc9",
   "metadata": {},
   "outputs": [
    {
     "data": {
      "text/plain": [
       "False"
      ]
     },
     "execution_count": 83,
     "metadata": {},
     "output_type": "execute_result"
    }
   ],
   "source": [
    "1 == 5 ###########equal to operator"
   ]
  },
  {
   "cell_type": "code",
   "execution_count": 84,
   "id": "8997f00a",
   "metadata": {},
   "outputs": [
    {
     "data": {
      "text/plain": [
       "True"
      ]
     },
     "execution_count": 84,
     "metadata": {},
     "output_type": "execute_result"
    }
   ],
   "source": [
    "1 < 5  ############less than operator"
   ]
  },
  {
   "cell_type": "code",
   "execution_count": 85,
   "id": "ba9c8d2b",
   "metadata": {},
   "outputs": [
    {
     "data": {
      "text/plain": [
       "True"
      ]
     },
     "execution_count": 85,
     "metadata": {},
     "output_type": "execute_result"
    }
   ],
   "source": [
    "1 <= 5 ############less than or equal to operator"
   ]
  },
  {
   "cell_type": "code",
   "execution_count": 86,
   "id": "eff95307",
   "metadata": {},
   "outputs": [
    {
     "data": {
      "text/plain": [
       "False"
      ]
     },
     "execution_count": 86,
     "metadata": {},
     "output_type": "execute_result"
    }
   ],
   "source": [
    "3 != 3 #############checks the inequality. If both sides are not equal, it will return true. Otherwise, it will return false."
   ]
  },
  {
   "cell_type": "code",
   "execution_count": 87,
   "id": "b41e59d0",
   "metadata": {},
   "outputs": [
    {
     "name": "stdout",
     "output_type": "stream",
     "text": [
      "False\n"
     ]
    }
   ],
   "source": [
    "print(3 != 3)"
   ]
  },
  {
   "cell_type": "code",
   "execution_count": 88,
   "id": "bd0ec97b",
   "metadata": {},
   "outputs": [
    {
     "data": {
      "text/plain": [
       "True"
      ]
     },
     "execution_count": 88,
     "metadata": {},
     "output_type": "execute_result"
    }
   ],
   "source": [
    "11 != 5"
   ]
  },
  {
   "cell_type": "code",
   "execution_count": 89,
   "id": "5ebf357c",
   "metadata": {},
   "outputs": [
    {
     "name": "stdout",
     "output_type": "stream",
     "text": [
      "True\n"
     ]
    }
   ],
   "source": [
    "print(11 != 5)"
   ]
  },
  {
   "cell_type": "code",
   "execution_count": 91,
   "id": "9b0bac40",
   "metadata": {},
   "outputs": [
    {
     "data": {
      "text/plain": [
       "True"
      ]
     },
     "execution_count": 91,
     "metadata": {},
     "output_type": "execute_result"
    }
   ],
   "source": [
    "(3 < 9) and (5 >= 5) ####Usage of the and operator to combine multiple checks."
   ]
  },
  {
   "cell_type": "code",
   "execution_count": 92,
   "id": "c26be428",
   "metadata": {},
   "outputs": [
    {
     "data": {
      "text/plain": [
       "True"
      ]
     },
     "execution_count": 92,
     "metadata": {},
     "output_type": "execute_result"
    }
   ],
   "source": [
    "(4 > 1) or (8 < 6) ####Usage of the or operator."
   ]
  },
  {
   "cell_type": "code",
   "execution_count": 93,
   "id": "a9256a96",
   "metadata": {},
   "outputs": [
    {
     "name": "stdout",
     "output_type": "stream",
     "text": [
      "True\n",
      "True\n",
      "True\n",
      "False\n",
      "False\n",
      "False\n"
     ]
    }
   ],
   "source": [
    "print(True or True)\n",
    "print(True or False)\n",
    "print(True and True)\n",
    "print(True and False)\n",
    "print(False and False)\n",
    "print(False or False)"
   ]
  },
  {
   "cell_type": "code",
   "execution_count": 94,
   "id": "baa23d51",
   "metadata": {},
   "outputs": [
    {
     "name": "stdout",
     "output_type": "stream",
     "text": [
      "Hello World !\n",
      "The equality is satisfied.\n",
      "The equality is not satisfied.\n"
     ]
    }
   ],
   "source": [
    "if 3 < 9:\n",
    "    print(\"Hello World !\")\n",
    "    \n",
    "\n",
    "if 2 == 2:\n",
    "    print(\"The equality is satisfied.\")\n",
    "else:\n",
    "    print(\"The equality is not satisfied.\")\n",
    "    \n",
    "    \n",
    "if 7 == 2:\n",
    "    print(\"The equality is satisfied.\")\n",
    "else:\n",
    "    print(\"The equality is not satisfied.\")\n",
    "    "
   ]
  },
  {
   "cell_type": "code",
   "execution_count": 95,
   "id": "14253bab",
   "metadata": {},
   "outputs": [
    {
     "data": {
      "text/plain": [
       "{0, 1, 3, 4, 5, 6, 7, 8, 9, 10}"
      ]
     },
     "execution_count": 95,
     "metadata": {},
     "output_type": "execute_result"
    }
   ],
   "source": [
    "set([1,9,9,10,3,3,3,3,7,8,5,6,6,1,1,0,9,9,4,3,5,0]) ######it will grab the unique elements in the list"
   ]
  },
  {
   "cell_type": "code",
   "execution_count": 97,
   "id": "0298d88c",
   "metadata": {},
   "outputs": [
    {
     "name": "stdout",
     "output_type": "stream",
     "text": [
      "{0, 1, 2, 3, 4, 5, 6, 7, 8, 9}\n"
     ]
    }
   ],
   "source": [
    "print(set([2,8,8,3,3,3,3,7,8,5,6,6,1,1,0,9,9,4,3,5,0]))"
   ]
  },
  {
   "cell_type": "code",
   "execution_count": 98,
   "id": "f2c9c7d7",
   "metadata": {},
   "outputs": [
    {
     "name": "stdout",
     "output_type": "stream",
     "text": [
      "1\n",
      "2\n",
      "3\n",
      "4\n",
      "5\n",
      "6\n",
      "7\n",
      "8\n",
      "9\n",
      "10\n"
     ]
    }
   ],
   "source": [
    "seq = [1,2,3,4,5,6,7,8,9,10]\n",
    "\n",
    "###########iterate through the list by using a for loop and print each element of the list.\n",
    "for item in seq:\n",
    "    print(item)"
   ]
  },
  {
   "cell_type": "code",
   "execution_count": 3,
   "id": "bff363d5",
   "metadata": {},
   "outputs": [
    {
     "name": "stdout",
     "output_type": "stream",
     "text": [
      "w is 1\n",
      "w is: 1\n",
      "------------------------------------\n",
      "\n",
      "w is 2\n",
      "w is: 2\n",
      "------------------------------------\n",
      "\n",
      "w is 3\n",
      "w is: 3\n",
      "------------------------------------\n",
      "\n",
      "w is 4\n",
      "w is: 4\n",
      "------------------------------------\n",
      "\n",
      "\n",
      "\n",
      "---------------------------------------------------------------------------\n",
      "k is 1\n",
      "k is: 1\n",
      "------------------------------------\n",
      "\n",
      "k is 2\n",
      "k is: 2\n",
      "------------------------------------\n",
      "\n",
      "k is 3\n",
      "k is: 3\n",
      "------------------------------------\n",
      "\n",
      "k is 4\n",
      "k is: 4\n",
      "------------------------------------\n",
      "\n"
     ]
    }
   ],
   "source": [
    "#########Usage of while loop in Python\n",
    "w = 1\n",
    "while(w < 5):\n",
    "    print(\"w is \"+str(w)+\"\")\n",
    "    print(\"w is: {one}\".format(one=w))\n",
    "    print(\"------------------------------------\")\n",
    "    print()\n",
    "    w+=1\n",
    "    \n",
    "print()\n",
    "print()\n",
    "    \n",
    "print(\"---------------------------------------------------------------------------\")\n",
    "k = 1\n",
    "while(k < 5):\n",
    "    print(\"k is \"+str(k)+\"\")\n",
    "    print(\"k is: {one}\".format(one=k))\n",
    "    print(\"------------------------------------\")\n",
    "    print()\n",
    "    k = k + 1"
   ]
  },
  {
   "cell_type": "code",
   "execution_count": 4,
   "id": "bd205bf6",
   "metadata": {},
   "outputs": [
    {
     "data": {
      "text/plain": [
       "range(0, 6)"
      ]
     },
     "execution_count": 4,
     "metadata": {},
     "output_type": "execute_result"
    }
   ],
   "source": [
    "###############range function in python\n",
    "range(0,6)"
   ]
  },
  {
   "cell_type": "code",
   "execution_count": 5,
   "id": "62f4c5f0",
   "metadata": {},
   "outputs": [
    {
     "name": "stdout",
     "output_type": "stream",
     "text": [
      "0\n",
      "1\n",
      "2\n",
      "3\n",
      "4\n",
      "5\n"
     ]
    }
   ],
   "source": [
    "##Iterate through the range starting at 0 and ending at 5 (exclusive).\n",
    "##The end value that is specified for the range function is not included.\n",
    "##Perform iterations by using a for loop\n",
    "for x in range(0, 6):\n",
    "    print(x) "
   ]
  },
  {
   "cell_type": "code",
   "execution_count": 7,
   "id": "8e802e92",
   "metadata": {},
   "outputs": [
    {
     "name": "stdout",
     "output_type": "stream",
     "text": [
      "[0, 1, 2, 3, 4, 5, 6, 7, 8, 9]\n",
      "[2, 3, 4, 5, 6, 7]\n",
      "[3, 6, 9, 12, 15, 18, 21, 24, 27, 30]\n"
     ]
    }
   ],
   "source": [
    "print(list(range(10))) #####construct a list consisting of numbers from 0 to 9, incrementing by 1  and not including 10.\n",
    "print(list(range(2,8))) ####construct a list consisting of numbers from 2 to 7, incrementing by 1 and not including 8.\n",
    "print(list(range(3,33,3))) ### construct a list consisting of numbers from 3 to 30, incrementing by 3 and not including 33."
   ]
  },
  {
   "cell_type": "code",
   "execution_count": 4,
   "id": "eb5144f2",
   "metadata": {},
   "outputs": [
    {
     "name": "stdout",
     "output_type": "stream",
     "text": [
      "[1, 8, 9, 64, 25, 216]\n",
      "[1, 8, 9, 64, 25, 216]\n"
     ]
    }
   ],
   "source": [
    "#####Python List Comprehension#######\n",
    "\n",
    "##########Without list comprehension\n",
    "my_list = [1,2,3,4,5,6]\n",
    "out_list = []\n",
    "for index, num in enumerate(my_list):\n",
    "    if index % 2 == 0:\n",
    "        out_list.append(num**2)\n",
    "    else:\n",
    "        out_list.append(num**3)\n",
    "        \n",
    "print(out_list)\n",
    "\n",
    "\n",
    "##########With list comprehension\n",
    "output_list = [num**2 if index%2==0 else num**3 for index, num in enumerate(my_list)]\n",
    "print(output_list)\n"
   ]
  },
  {
   "cell_type": "code",
   "execution_count": 5,
   "id": "69b21f08",
   "metadata": {},
   "outputs": [
    {
     "data": {
      "text/plain": [
       "[1, 8, 9, 64, 25, 216]"
      ]
     },
     "execution_count": 5,
     "metadata": {},
     "output_type": "execute_result"
    }
   ],
   "source": [
    "output_list"
   ]
  },
  {
   "cell_type": "code",
   "execution_count": 18,
   "id": "71fe9a8d",
   "metadata": {},
   "outputs": [
    {
     "name": "stdout",
     "output_type": "stream",
     "text": [
      "(1, 4, 9)\n",
      "(1, 4, 9)\n",
      "\n",
      "Hello\n",
      "33\n",
      "\n",
      "World\n",
      "77\n",
      "\n"
     ]
    }
   ],
   "source": [
    "#################Defining a function in python\n",
    "def my_function(param1: int,  param2: int, param3: int):\n",
    "    return param1**2, param2**2, param3**2\n",
    "    \n",
    "print(my_function(param1 = 1,param2 = 2, param3 = 3))\n",
    "print(my_function(1,2,3))\n",
    "\n",
    "print()\n",
    "\n",
    "def my_func(param1, param2):\n",
    "    print(param1)\n",
    "    print(param2)\n",
    "    print()\n",
    "    \n",
    "    \n",
    "my_func(\"Hello\", 33)\n",
    "my_func(\"World\", 77)"
   ]
  },
  {
   "cell_type": "code",
   "execution_count": 23,
   "id": "8bfa61d0",
   "metadata": {},
   "outputs": [
    {
     "name": "stdout",
     "output_type": "stream",
     "text": [
      "Hello Garry \n",
      "Hello Rachel \n"
     ]
    }
   ],
   "source": [
    "def greetings_func(name = \"Mike\"):\n",
    "    return \"Hello\" + \" \" + str(name) + \" \"\n",
    "\n",
    "print(greetings_func(\"Garry\"))\n",
    "print(greetings_func(\"Rachel\"))"
   ]
  },
  {
   "cell_type": "code",
   "execution_count": 27,
   "id": "2ae1d3d2",
   "metadata": {},
   "outputs": [
    {
     "name": "stdout",
     "output_type": "stream",
     "text": [
      "16\n",
      "182.25\n",
      "0\n",
      "1.5625\n",
      "81\n"
     ]
    }
   ],
   "source": [
    "def square_num(num):\n",
    "    \"\"\"\n",
    "    This is a documentation for this function. This function takes an integer or float parameter \n",
    "    and returns the square of it.\n",
    "    \"\"\"\n",
    "    if not (isinstance(num, int) or isinstance(num, float)):\n",
    "        raise Exception(\"The square can only be computed for integer or float parameters.\")\n",
    "    \n",
    "    return num**2\n",
    "\n",
    "print(square_num(4))\n",
    "print(square_num(-13.5))\n",
    "print(square_num(0))\n",
    "print(square_num(1.25))\n",
    "\n",
    "output_number = square_num(9)\n",
    "print(output_number)"
   ]
  },
  {
   "cell_type": "code",
   "execution_count": 28,
   "id": "209075b3",
   "metadata": {},
   "outputs": [
    {
     "ename": "Exception",
     "evalue": "The square can only be computed for integer or float parameters.",
     "output_type": "error",
     "traceback": [
      "\u001b[0;31m---------------------------------------------------------------------------\u001b[0m",
      "\u001b[0;31mException\u001b[0m                                 Traceback (most recent call last)",
      "Input \u001b[0;32mIn [28]\u001b[0m, in \u001b[0;36m<cell line: 1>\u001b[0;34m()\u001b[0m\n\u001b[0;32m----> 1\u001b[0m \u001b[38;5;28mprint\u001b[39m(\u001b[43msquare_num\u001b[49m\u001b[43m(\u001b[49m\u001b[38;5;124;43m\"\u001b[39;49m\u001b[38;5;124;43mHello\u001b[39;49m\u001b[38;5;124;43m\"\u001b[39;49m\u001b[43m)\u001b[49m)\n",
      "Input \u001b[0;32mIn [27]\u001b[0m, in \u001b[0;36msquare_num\u001b[0;34m(num)\u001b[0m\n\u001b[1;32m      1\u001b[0m \u001b[38;5;28;01mdef\u001b[39;00m \u001b[38;5;21msquare_num\u001b[39m(num):\n\u001b[1;32m      2\u001b[0m     \u001b[38;5;28;01mif\u001b[39;00m \u001b[38;5;129;01mnot\u001b[39;00m (\u001b[38;5;28misinstance\u001b[39m(num, \u001b[38;5;28mint\u001b[39m) \u001b[38;5;129;01mor\u001b[39;00m \u001b[38;5;28misinstance\u001b[39m(num, \u001b[38;5;28mfloat\u001b[39m)):\n\u001b[0;32m----> 3\u001b[0m         \u001b[38;5;28;01mraise\u001b[39;00m \u001b[38;5;167;01mException\u001b[39;00m(\u001b[38;5;124m\"\u001b[39m\u001b[38;5;124mThe square can only be computed for integer or float parameters.\u001b[39m\u001b[38;5;124m\"\u001b[39m)\n\u001b[1;32m      5\u001b[0m     \u001b[38;5;124;03m\"\"\"\u001b[39;00m\n\u001b[1;32m      6\u001b[0m \u001b[38;5;124;03m    This is a documentation for this function. This function takes an integer or float parameter \u001b[39;00m\n\u001b[1;32m      7\u001b[0m \u001b[38;5;124;03m    and returns the square of it.\u001b[39;00m\n\u001b[1;32m      8\u001b[0m \u001b[38;5;124;03m    \"\"\"\u001b[39;00m\n\u001b[1;32m      9\u001b[0m     \u001b[38;5;28;01mreturn\u001b[39;00m num\u001b[38;5;241m*\u001b[39m\u001b[38;5;241m*\u001b[39m\u001b[38;5;241m2\u001b[39m\n",
      "\u001b[0;31mException\u001b[0m: The square can only be computed for integer or float parameters."
     ]
    }
   ],
   "source": [
    "print(square_num(\"Hello\")) ####Here, the parameter is a string. Thus, it will throw the error specified above.\n"
   ]
  },
  {
   "cell_type": "code",
   "execution_count": 31,
   "id": "cfa0d382",
   "metadata": {},
   "outputs": [
    {
     "name": "stdout",
     "output_type": "stream",
     "text": [
      "<map object at 0x7fab4df7ddc0>\n",
      "[2, 4, 6, 8, 10, 12, 14, 16, 18, 20]\n"
     ]
    }
   ],
   "source": [
    "#################Lambda expressions, map and filter functions\n",
    "def multiply_by_2(var):\n",
    "    return var * 2\n",
    "\n",
    "my_seq = [1,2,3,4,5,6,7,8,9,10]\n",
    "map(multiply_by_2, my_seq) \n",
    "print(map(multiply_by_2, my_seq))  #####this will print the memory location of the map object.\n",
    "\n",
    "#######usage of map function in Python\n",
    "print(list(map(multiply_by_2, my_seq)))  #########do the mapping operation using multiply_by_2 function, convert map to a list, and print the list."
   ]
  },
  {
   "cell_type": "code",
   "execution_count": 34,
   "id": "14b46559",
   "metadata": {},
   "outputs": [
    {
     "name": "stdout",
     "output_type": "stream",
     "text": [
      "[1, 8, 27, 64, 125, 216, 343, 512, 729, 1000]\n"
     ]
    }
   ],
   "source": [
    "####usage of map() function and lambda expression while creating a list in python.\n",
    "result = list(map(lambda num: num**3, my_seq))\n",
    "print(result)"
   ]
  },
  {
   "cell_type": "code",
   "execution_count": 37,
   "id": "f1c1eb2d",
   "metadata": {},
   "outputs": [
    {
     "name": "stdout",
     "output_type": "stream",
     "text": [
      "[2, 4, 6, 8, 10]\n"
     ]
    }
   ],
   "source": [
    "###########filter() function in python\n",
    "\n",
    "#####Usage of filter() and list() functions and lambda expression while creating a filtered list in Python.\n",
    "print(list(filter(lambda num: num%2==0, my_seq)))"
   ]
  },
  {
   "cell_type": "code",
   "execution_count": 38,
   "id": "dfa274b9",
   "metadata": {},
   "outputs": [
    {
     "data": {
      "text/plain": [
       "[2, 4, 6, 8, 10]"
      ]
     },
     "execution_count": 38,
     "metadata": {},
     "output_type": "execute_result"
    }
   ],
   "source": [
    "filter(lambda num: num%2==0, my_seq)\n",
    "list(filter(lambda num: num%2==0, my_seq))"
   ]
  },
  {
   "cell_type": "code",
   "execution_count": 40,
   "id": "3e999e1e",
   "metadata": {},
   "outputs": [
    {
     "name": "stdout",
     "output_type": "stream",
     "text": [
      "hello world! my name is baris.\n"
     ]
    }
   ],
   "source": [
    "my_string = \"Hello World! My name is Baris.\"\n",
    "\n",
    "lowered_string = my_string.lower()  # Converts all characters in a string to lowercase.\n",
    "\n",
    "print(lowered_string)"
   ]
  },
  {
   "cell_type": "code",
   "execution_count": 41,
   "id": "2334c7e0",
   "metadata": {},
   "outputs": [
    {
     "name": "stdout",
     "output_type": "stream",
     "text": [
      "HELLO WORLD! MY NAME IS BARIS.\n"
     ]
    }
   ],
   "source": [
    "upper_string = my_string.upper()  # Converts all characters in a string to uppercase.\n",
    "\n",
    "print(upper_string)"
   ]
  },
  {
   "cell_type": "code",
   "execution_count": 44,
   "id": "f13c4789",
   "metadata": {},
   "outputs": [
    {
     "name": "stdout",
     "output_type": "stream",
     "text": [
      "['Hello', 'World!', 'My', 'name', 'is', 'Baris.']\n",
      "['Hello', 'World!', 'My', 'name', 'is', 'Baris.']\n"
     ]
    }
   ],
   "source": [
    "splitted = my_string.split(' ') #It splits the text according to the empty space and creates an array of words.\n",
    "splitted_arr = my_string.split() #It splits the text according to the empty space and creates an array of words.\n",
    "\n",
    "print(splitted)\n",
    "print(splitted_arr)"
   ]
  },
  {
   "cell_type": "code",
   "execution_count": 46,
   "id": "8870b440",
   "metadata": {},
   "outputs": [
    {
     "name": "stdout",
     "output_type": "stream",
     "text": [
      "['Go Sports! ', 'Sports']\n",
      "Go Sports! \n",
      "Sports\n"
     ]
    }
   ],
   "source": [
    "tweet_string = \"Go Sports! #Sports\"\n",
    "\n",
    "tweet_words_arr = tweet_string.split(\"#\") ####It will split the tweet based on the #\n",
    "print(tweet_words_arr)\n",
    "\n",
    "print(tweet_words_arr[0])\n",
    "print(tweet_words_arr[1])"
   ]
  },
  {
   "cell_type": "code",
   "execution_count": 47,
   "id": "63b2aa9f",
   "metadata": {},
   "outputs": [
    {
     "name": "stdout",
     "output_type": "stream",
     "text": [
      "{'key1': 10, 'key2': 20, 'key3': 30, 'key4': 40}\n"
     ]
    }
   ],
   "source": [
    "my_dictionary = {'key1': 10, 'key2': 20, 'key3': 30, 'key4': 40}\n",
    "print(my_dictionary)"
   ]
  },
  {
   "cell_type": "code",
   "execution_count": 48,
   "id": "c5dac055",
   "metadata": {},
   "outputs": [
    {
     "data": {
      "text/plain": [
       "{'key1': 10, 'key2': 20, 'key3': 30, 'key4': 40}"
      ]
     },
     "execution_count": 48,
     "metadata": {},
     "output_type": "execute_result"
    }
   ],
   "source": [
    "my_dictionary"
   ]
  },
  {
   "cell_type": "code",
   "execution_count": 51,
   "id": "31d290c0",
   "metadata": {},
   "outputs": [
    {
     "data": {
      "text/plain": [
       "dict_keys(['key1', 'key2', 'key3', 'key4'])"
      ]
     },
     "execution_count": 51,
     "metadata": {},
     "output_type": "execute_result"
    }
   ],
   "source": [
    "######returns the keys of the dictionary\n",
    "my_dictionary.keys()"
   ]
  },
  {
   "cell_type": "code",
   "execution_count": 52,
   "id": "90e3731b",
   "metadata": {},
   "outputs": [
    {
     "data": {
      "text/plain": [
       "dict_values([10, 20, 30, 40])"
      ]
     },
     "execution_count": 52,
     "metadata": {},
     "output_type": "execute_result"
    }
   ],
   "source": [
    "######returns the values of the dictionary\n",
    "my_dictionary.values()"
   ]
  },
  {
   "cell_type": "code",
   "execution_count": 50,
   "id": "dd0095ff",
   "metadata": {},
   "outputs": [
    {
     "data": {
      "text/plain": [
       "dict_items([('key1', 10), ('key2', 20), ('key3', 30), ('key4', 40)])"
      ]
     },
     "execution_count": 50,
     "metadata": {},
     "output_type": "execute_result"
    }
   ],
   "source": [
    "######returns the items of the dictionary\n",
    "my_dictionary.items()"
   ]
  },
  {
   "cell_type": "code",
   "execution_count": 54,
   "id": "48a91a1d",
   "metadata": {},
   "outputs": [
    {
     "name": "stdout",
     "output_type": "stream",
     "text": [
      "[0, 1, 2, 3, 4, 5]\n",
      "5\n",
      "[0, 1, 2, 3, 4]\n",
      "4\n",
      "[0, 1, 2, 3]\n",
      "[0, 1, 2, 3, 3]\n"
     ]
    }
   ],
   "source": [
    "lst = [0, 1, 2, 3, 4, 5]\n",
    "\n",
    "print(lst)\n",
    "item = lst.pop()\n",
    "print(item)\n",
    "print(lst)\n",
    "second_popped = lst.pop()\n",
    "print(second_popped)\n",
    "print(lst)\n",
    "lst.append(3)\n",
    "print(lst)\n"
   ]
  },
  {
   "cell_type": "code",
   "execution_count": 55,
   "id": "354c718e",
   "metadata": {},
   "outputs": [
    {
     "name": "stdout",
     "output_type": "stream",
     "text": [
      "[0, 1, 2, 3, 3]\n",
      "0\n",
      "2\n",
      "[1, 3, 3]\n"
     ]
    }
   ],
   "source": [
    "print(lst)\n",
    "popped_element = lst.pop(0) ####pop the element at index 0 from the list called lst.\n",
    "print(popped_element)\n",
    "pop_elm = lst.pop(1) ####pop the element at index 1 from the list called lst.\n",
    "print(pop_elm)\n",
    "print(lst)"
   ]
  },
  {
   "cell_type": "code",
   "execution_count": 58,
   "id": "3ec2ae5e",
   "metadata": {},
   "outputs": [
    {
     "name": "stdout",
     "output_type": "stream",
     "text": [
      "True\n",
      "True\n",
      "False\n"
     ]
    }
   ],
   "source": [
    "###################How to check whether a value is in a list\n",
    "#####By using in function, we can achieve this.\n",
    "print(1 in lst) #It will return true\n",
    "print(\"Hello1\" in [\"Hello1\", \"Hello2\", \"Hello3\"]) #It will return true\n",
    "print(8 in [1, 2, \"World\"]) #It will return false"
   ]
  },
  {
   "cell_type": "code",
   "execution_count": 64,
   "id": "ab2bca02",
   "metadata": {},
   "outputs": [
    {
     "name": "stdout",
     "output_type": "stream",
     "text": [
      "[(1, 2), (3, 4), (5, 6)]\n"
     ]
    }
   ],
   "source": [
    "############Tuple Unpacking in Python\n",
    "my_tuple_lst = [(1,2), (3,4), (5,6)]\n",
    "print(my_tuple_lst)"
   ]
  },
  {
   "cell_type": "code",
   "execution_count": 65,
   "id": "8a622b3f",
   "metadata": {},
   "outputs": [
    {
     "name": "stdout",
     "output_type": "stream",
     "text": [
      "(1, 2)\n",
      "1\n",
      "2\n"
     ]
    }
   ],
   "source": [
    "print(my_tuple_lst[0])\n",
    "print(my_tuple_lst[0][0])\n",
    "print(my_tuple_lst[0][1])"
   ]
  },
  {
   "cell_type": "code",
   "execution_count": 67,
   "id": "76480c88",
   "metadata": {},
   "outputs": [
    {
     "name": "stdout",
     "output_type": "stream",
     "text": [
      "(1, 2)\n",
      "(3, 4)\n",
      "(5, 6)\n",
      "\n",
      "1 2\n",
      "1\n",
      "2\n",
      "\n",
      "3 4\n",
      "3\n",
      "4\n",
      "\n",
      "5 6\n",
      "5\n",
      "6\n",
      "\n"
     ]
    }
   ],
   "source": [
    "for item in my_tuple_lst:\n",
    "    print(item)\n",
    "    \n",
    "print()\n",
    "for a,b in my_tuple_lst:\n",
    "    print(a, b)\n",
    "    print(a)\n",
    "    print(b)\n",
    "    print()"
   ]
  },
  {
   "cell_type": "code",
   "execution_count": 68,
   "id": "d1104414",
   "metadata": {},
   "outputs": [
    {
     "data": {
      "text/plain": [
       "40353607"
      ]
     },
     "execution_count": 68,
     "metadata": {},
     "output_type": "execute_result"
    }
   ],
   "source": [
    "###########Python Exercises\n",
    "#####What is 7 to the power of 9?\n",
    "7**9"
   ]
  },
  {
   "cell_type": "code",
   "execution_count": 69,
   "id": "0b18a046",
   "metadata": {},
   "outputs": [
    {
     "name": "stdout",
     "output_type": "stream",
     "text": [
      "40353607\n"
     ]
    }
   ],
   "source": [
    "print(7**9)"
   ]
  },
  {
   "cell_type": "code",
   "execution_count": 70,
   "id": "5f9ab59b",
   "metadata": {},
   "outputs": [
    {
     "name": "stdout",
     "output_type": "stream",
     "text": [
      "['Hi', 'there', 'Barış']\n"
     ]
    }
   ],
   "source": [
    "##############Split \"Hi there Barış\"#################\n",
    "s = \"Hi there Barış\"\n",
    "split_arr = s.split(\" \")\n",
    "print(split_arr)"
   ]
  },
  {
   "cell_type": "code",
   "execution_count": 88,
   "id": "bb3a89c8",
   "metadata": {},
   "outputs": [
    {
     "name": "stdout",
     "output_type": "stream",
     "text": [
      "('baris', 'ku.edu.tr')\n",
      "2\n",
      "2\n"
     ]
    }
   ],
   "source": [
    "################Write a function that returns the user name and domain name as a tuple given the following email address structure:\n",
    "#############username@domain.com\n",
    "\n",
    "def getUsernameAndDomainName(email_address):\n",
    "    if (email_address is None) or (type(email_address) != str):\n",
    "        raise ValueError(\"Email address should be a specified string!\")\n",
    "\n",
    "    split_array = email_address.split(\"@\")\n",
    "    if len(split_array) != 2:\n",
    "        raise ValueError(\"Invalid email address format!\")\n",
    "\n",
    "    username = split_array[0]\n",
    "    domain = split_array[1]\n",
    "    return username, domain\n",
    "\n",
    "\n",
    "print(getUsernameAndDomainName(\"baris@ku.edu.tr\"))\n",
    "\n",
    "\n",
    "\n",
    "#########Count how many times the string 'dog' occurs in a string################\n",
    "\n",
    "import re\n",
    "\n",
    "\n",
    "def countDog1(st):\n",
    "    words = st.lower().split()\n",
    "    dog_count = 0\n",
    "\n",
    "    for word in words:\n",
    "        # Remove punctuation from each word\n",
    "        cleaned_word = ''.join(char for char in word if char.isalnum())\n",
    "\n",
    "        # Check if the cleaned word is \"dog\"\n",
    "        if cleaned_word == \"dog\":\n",
    "            dog_count = dog_count + 1\n",
    "\n",
    "    return dog_count \n",
    "\n",
    "\n",
    "def countDog2(st):\n",
    "    # Usage of regular expression to find all occurrences of \"dog\" regardless of punctuation\n",
    "    dog_count = len(re.findall(r'\\bdog\\b', st.lower()))\n",
    "    return dog_count\n",
    "\n",
    "print(countDog1(\"Hi dog come here my little dog!\"))\n",
    "print(countDog2(\"Hi dog come here my little dog!\"))\n",
    "\n",
    "\n",
    "\n"
   ]
  },
  {
   "cell_type": "code",
   "execution_count": null,
   "id": "f80b4056",
   "metadata": {},
   "outputs": [],
   "source": []
  },
  {
   "cell_type": "code",
   "execution_count": null,
   "id": "c9f13325",
   "metadata": {},
   "outputs": [],
   "source": []
  }
 ],
 "metadata": {
  "kernelspec": {
   "display_name": "Python 3 (ipykernel)",
   "language": "python",
   "name": "python3"
  },
  "language_info": {
   "codemirror_mode": {
    "name": "ipython",
    "version": 3
   },
   "file_extension": ".py",
   "mimetype": "text/x-python",
   "name": "python",
   "nbconvert_exporter": "python",
   "pygments_lexer": "ipython3",
   "version": "3.9.12"
  }
 },
 "nbformat": 4,
 "nbformat_minor": 5
}
